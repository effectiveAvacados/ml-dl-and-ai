{
  "cells": [
    {
      "cell_type": "markdown",
      "metadata": {
        "id": "wzzwguB5quT_"
      },
      "source": [
        "## Import Python packages"
      ]
    },
    {
      "cell_type": "code",
      "execution_count": null,
      "metadata": {
        "id": "MnO7R2T6qgZz"
      },
      "outputs": [],
      "source": [
        "import numpy as np\n",
        "import matplotlib.pyplot as plt\n",
        "import pandas as pd\n",
        "import string\n",
        "\n",
        "from sklearn.metrics import plot_confusion_matrix\n",
        "from sklearn import svm, datasets\n",
        "import sklearn\n",
        "\n",
        "from tabulate import tabulate"
      ]
    },
    {
      "cell_type": "code",
      "execution_count": null,
      "metadata": {
        "colab": {
          "base_uri": "https://localhost:8080/"
        },
        "id": "irXe-seozL-R",
        "outputId": "202290a0-e428-4ba7-cb77-9321d7c7f8a9"
      },
      "outputs": [
        {
          "name": "stdout",
          "output_type": "stream",
          "text": [
            "The scikit-learn version is 0.22.2.post1.\n"
          ]
        }
      ],
      "source": [
        "print('The scikit-learn version is {}.'.format(sklearn.__version__))"
      ]
    },
    {
      "cell_type": "markdown",
      "metadata": {
        "id": "wh_1yosVq6fa"
      },
      "source": [
        "## Download dataset"
      ]
    },
    {
      "cell_type": "code",
      "execution_count": null,
      "metadata": {
        "id": "zdZFtIv5q-VJ"
      },
      "outputs": [],
      "source": [
        "path = \"https://archive.ics.uci.edu/ml/machine-learning-databases/letter-recognition/letter-recognition.data\""
      ]
    },
    {
      "cell_type": "markdown",
      "metadata": {
        "id": "SjAgDqHFrJv8"
      },
      "source": [
        "## Assign column names"
      ]
    },
    {
      "cell_type": "code",
      "execution_count": null,
      "metadata": {
        "id": "ica6tyAOrMd4"
      },
      "outputs": [],
      "source": [
        "headernames = ['lettr', 'x-box', 'y-box', 'width', 'high', 'onpix', 'x-bar', 'y-bar', 'x2bar', 'y2bar', 'xybar', 'x2ybr', 'xy2br', 'x-ege', 'xegvy', 'y-ege', 'yegvx']"
      ]
    },
    {
      "cell_type": "markdown",
      "metadata": {
        "id": "vpoE1nKirPBw"
      },
      "source": [
        "## Read the dataset to pandas dataframe "
      ]
    },
    {
      "cell_type": "code",
      "execution_count": null,
      "metadata": {
        "colab": {
          "base_uri": "https://localhost:8080/",
          "height": 206
        },
        "id": "rgupGLgHrU38",
        "outputId": "090fef0f-daf1-49c7-d5c1-bfd242fbd225"
      },
      "outputs": [
        {
          "data": {
            "text/html": [
              "<div>\n",
              "<style scoped>\n",
              "    .dataframe tbody tr th:only-of-type {\n",
              "        vertical-align: middle;\n",
              "    }\n",
              "\n",
              "    .dataframe tbody tr th {\n",
              "        vertical-align: top;\n",
              "    }\n",
              "\n",
              "    .dataframe thead th {\n",
              "        text-align: right;\n",
              "    }\n",
              "</style>\n",
              "<table border=\"1\" class=\"dataframe\">\n",
              "  <thead>\n",
              "    <tr style=\"text-align: right;\">\n",
              "      <th></th>\n",
              "      <th>lettr</th>\n",
              "      <th>x-box</th>\n",
              "      <th>y-box</th>\n",
              "      <th>width</th>\n",
              "      <th>high</th>\n",
              "      <th>onpix</th>\n",
              "      <th>x-bar</th>\n",
              "      <th>y-bar</th>\n",
              "      <th>x2bar</th>\n",
              "      <th>y2bar</th>\n",
              "      <th>xybar</th>\n",
              "      <th>x2ybr</th>\n",
              "      <th>xy2br</th>\n",
              "      <th>x-ege</th>\n",
              "      <th>xegvy</th>\n",
              "      <th>y-ege</th>\n",
              "      <th>yegvx</th>\n",
              "    </tr>\n",
              "  </thead>\n",
              "  <tbody>\n",
              "    <tr>\n",
              "      <th>0</th>\n",
              "      <td>T</td>\n",
              "      <td>2</td>\n",
              "      <td>8</td>\n",
              "      <td>3</td>\n",
              "      <td>5</td>\n",
              "      <td>1</td>\n",
              "      <td>8</td>\n",
              "      <td>13</td>\n",
              "      <td>0</td>\n",
              "      <td>6</td>\n",
              "      <td>6</td>\n",
              "      <td>10</td>\n",
              "      <td>8</td>\n",
              "      <td>0</td>\n",
              "      <td>8</td>\n",
              "      <td>0</td>\n",
              "      <td>8</td>\n",
              "    </tr>\n",
              "    <tr>\n",
              "      <th>1</th>\n",
              "      <td>I</td>\n",
              "      <td>5</td>\n",
              "      <td>12</td>\n",
              "      <td>3</td>\n",
              "      <td>7</td>\n",
              "      <td>2</td>\n",
              "      <td>10</td>\n",
              "      <td>5</td>\n",
              "      <td>5</td>\n",
              "      <td>4</td>\n",
              "      <td>13</td>\n",
              "      <td>3</td>\n",
              "      <td>9</td>\n",
              "      <td>2</td>\n",
              "      <td>8</td>\n",
              "      <td>4</td>\n",
              "      <td>10</td>\n",
              "    </tr>\n",
              "    <tr>\n",
              "      <th>2</th>\n",
              "      <td>D</td>\n",
              "      <td>4</td>\n",
              "      <td>11</td>\n",
              "      <td>6</td>\n",
              "      <td>8</td>\n",
              "      <td>6</td>\n",
              "      <td>10</td>\n",
              "      <td>6</td>\n",
              "      <td>2</td>\n",
              "      <td>6</td>\n",
              "      <td>10</td>\n",
              "      <td>3</td>\n",
              "      <td>7</td>\n",
              "      <td>3</td>\n",
              "      <td>7</td>\n",
              "      <td>3</td>\n",
              "      <td>9</td>\n",
              "    </tr>\n",
              "    <tr>\n",
              "      <th>3</th>\n",
              "      <td>N</td>\n",
              "      <td>7</td>\n",
              "      <td>11</td>\n",
              "      <td>6</td>\n",
              "      <td>6</td>\n",
              "      <td>3</td>\n",
              "      <td>5</td>\n",
              "      <td>9</td>\n",
              "      <td>4</td>\n",
              "      <td>6</td>\n",
              "      <td>4</td>\n",
              "      <td>4</td>\n",
              "      <td>10</td>\n",
              "      <td>6</td>\n",
              "      <td>10</td>\n",
              "      <td>2</td>\n",
              "      <td>8</td>\n",
              "    </tr>\n",
              "    <tr>\n",
              "      <th>4</th>\n",
              "      <td>G</td>\n",
              "      <td>2</td>\n",
              "      <td>1</td>\n",
              "      <td>3</td>\n",
              "      <td>1</td>\n",
              "      <td>1</td>\n",
              "      <td>8</td>\n",
              "      <td>6</td>\n",
              "      <td>6</td>\n",
              "      <td>6</td>\n",
              "      <td>6</td>\n",
              "      <td>5</td>\n",
              "      <td>9</td>\n",
              "      <td>1</td>\n",
              "      <td>7</td>\n",
              "      <td>5</td>\n",
              "      <td>10</td>\n",
              "    </tr>\n",
              "  </tbody>\n",
              "</table>\n",
              "</div>"
            ],
            "text/plain": [
              "  lettr  x-box  y-box  width  high  ...  xy2br  x-ege  xegvy  y-ege  yegvx\n",
              "0     T      2      8      3     5  ...      8      0      8      0      8\n",
              "1     I      5     12      3     7  ...      9      2      8      4     10\n",
              "2     D      4     11      6     8  ...      7      3      7      3      9\n",
              "3     N      7     11      6     6  ...     10      6     10      2      8\n",
              "4     G      2      1      3     1  ...      9      1      7      5     10\n",
              "\n",
              "[5 rows x 17 columns]"
            ]
          },
          "execution_count": 6,
          "metadata": {},
          "output_type": "execute_result"
        }
      ],
      "source": [
        "dataset = pd.read_csv(path, names = headernames)\n",
        "dataset.head()"
      ]
    },
    {
      "cell_type": "markdown",
      "metadata": {
        "id": "ZEGM8mP7re-J"
      },
      "source": [
        "## Data preprocessing "
      ]
    },
    {
      "cell_type": "markdown",
      "metadata": {
        "id": "6NRHuhgvMgtp"
      },
      "source": [
        "### Checking for missing values"
      ]
    },
    {
      "cell_type": "code",
      "execution_count": null,
      "metadata": {
        "colab": {
          "base_uri": "https://localhost:8080/"
        },
        "id": "81pLat0QJjUk",
        "outputId": "a00989f8-cdd9-4846-a88e-5f39bb6216fa"
      },
      "outputs": [
        {
          "data": {
            "text/plain": [
              "lettr    0\n",
              "x-box    0\n",
              "y-box    0\n",
              "width    0\n",
              "high     0\n",
              "onpix    0\n",
              "x-bar    0\n",
              "y-bar    0\n",
              "x2bar    0\n",
              "y2bar    0\n",
              "xybar    0\n",
              "x2ybr    0\n",
              "xy2br    0\n",
              "x-ege    0\n",
              "xegvy    0\n",
              "y-ege    0\n",
              "yegvx    0\n",
              "dtype: int64"
            ]
          },
          "execution_count": 7,
          "metadata": {},
          "output_type": "execute_result"
        }
      ],
      "source": [
        "dataset.isna().sum()"
      ]
    },
    {
      "cell_type": "markdown",
      "metadata": {
        "id": "sSYR-6MtNEMS"
      },
      "source": [
        "### Number of occurences of the classes"
      ]
    },
    {
      "cell_type": "code",
      "execution_count": null,
      "metadata": {
        "colab": {
          "base_uri": "https://localhost:8080/",
          "height": 313
        },
        "id": "xVWQjIkVNInC",
        "outputId": "2c42948f-428b-4d86-e72b-264ec1a5fcdf"
      },
      "outputs": [
        {
          "data": {
            "text/plain": [
              "<matplotlib.axes._subplots.AxesSubplot at 0x7fa5534e2c10>"
            ]
          },
          "execution_count": 8,
          "metadata": {},
          "output_type": "execute_result"
        },
        {
          "data": {
            "image/png": "[encoded data removed]",
            "text/plain": [
              "<Figure size 432x288 with 1 Axes>"
            ]
          },
          "metadata": {
            "needs_background": "light"
          },
          "output_type": "display_data"
        }
      ],
      "source": [
        "dataset.groupby('lettr').size().plot.bar(\n",
        "    rot=0, \n",
        "    title=\"Count of Letters in the Dataset\",\n",
        "    xlabel=\"Letter\",\n",
        "    ylabel=\"Count\"\n",
        "    )\n",
        "\n",
        "# dataset.groupby('lettr').size()"
      ]
    },
    {
      "cell_type": "markdown",
      "metadata": {
        "id": "rh74y153Vf50"
      },
      "source": [
        "### Correlation"
      ]
    },
    {
      "cell_type": "code",
      "execution_count": null,
      "metadata": {
        "colab": {
          "base_uri": "https://localhost:8080/",
          "height": 382
        },
        "id": "5Su26LSfVju2",
        "outputId": "4828a5ee-3beb-4926-e0e3-72644f5778e8"
      },
      "outputs": [
        {
          "data": {
            "text/html": [
              "<style  type=\"text/css\" >\n",
              "#T_03250b78_356d_11ec_9ab3_0242ac1c0002row0_col0,#T_03250b78_356d_11ec_9ab3_0242ac1c0002row1_col1,#T_03250b78_356d_11ec_9ab3_0242ac1c0002row2_col2,#T_03250b78_356d_11ec_9ab3_0242ac1c0002row3_col3,#T_03250b78_356d_11ec_9ab3_0242ac1c0002row4_col4,#T_03250b78_356d_11ec_9ab3_0242ac1c0002row5_col5,#T_03250b78_356d_11ec_9ab3_0242ac1c0002row6_col6,#T_03250b78_356d_11ec_9ab3_0242ac1c0002row7_col7,#T_03250b78_356d_11ec_9ab3_0242ac1c0002row8_col8,#T_03250b78_356d_11ec_9ab3_0242ac1c0002row9_col9,#T_03250b78_356d_11ec_9ab3_0242ac1c0002row10_col10,#T_03250b78_356d_11ec_9ab3_0242ac1c0002row11_col11,#T_03250b78_356d_11ec_9ab3_0242ac1c0002row12_col12,#T_03250b78_356d_11ec_9ab3_0242ac1c0002row13_col13,#T_03250b78_356d_11ec_9ab3_0242ac1c0002row14_col14,#T_03250b78_356d_11ec_9ab3_0242ac1c0002row15_col15{\n",
              "            background-color:  #5e4fa2;\n",
              "            color:  #f1f1f1;\n",
              "        }#T_03250b78_356d_11ec_9ab3_0242ac1c0002row0_col1,#T_03250b78_356d_11ec_9ab3_0242ac1c0002row1_col0{\n",
              "            background-color:  #58b2ac;\n",
              "            color:  #000000;\n",
              "        }#T_03250b78_356d_11ec_9ab3_0242ac1c0002row0_col2,#T_03250b78_356d_11ec_9ab3_0242ac1c0002row2_col0{\n",
              "            background-color:  #358bbc;\n",
              "            color:  #000000;\n",
              "        }#T_03250b78_356d_11ec_9ab3_0242ac1c0002row0_col3,#T_03250b78_356d_11ec_9ab3_0242ac1c0002row1_col2,#T_03250b78_356d_11ec_9ab3_0242ac1c0002row2_col1,#T_03250b78_356d_11ec_9ab3_0242ac1c0002row3_col0{\n",
              "            background-color:  #7ecca5;\n",
              "            color:  #000000;\n",
              "        }#T_03250b78_356d_11ec_9ab3_0242ac1c0002row0_col4,#T_03250b78_356d_11ec_9ab3_0242ac1c0002row4_col0{\n",
              "            background-color:  #99d6a4;\n",
              "            color:  #000000;\n",
              "        }#T_03250b78_356d_11ec_9ab3_0242ac1c0002row0_col5,#T_03250b78_356d_11ec_9ab3_0242ac1c0002row4_col6,#T_03250b78_356d_11ec_9ab3_0242ac1c0002row5_col0,#T_03250b78_356d_11ec_9ab3_0242ac1c0002row5_col11,#T_03250b78_356d_11ec_9ab3_0242ac1c0002row6_col4,#T_03250b78_356d_11ec_9ab3_0242ac1c0002row11_col5{\n",
              "            background-color:  #f99153;\n",
              "            color:  #000000;\n",
              "        }#T_03250b78_356d_11ec_9ab3_0242ac1c0002row0_col6,#T_03250b78_356d_11ec_9ab3_0242ac1c0002row1_col5,#T_03250b78_356d_11ec_9ab3_0242ac1c0002row2_col13,#T_03250b78_356d_11ec_9ab3_0242ac1c0002row5_col1,#T_03250b78_356d_11ec_9ab3_0242ac1c0002row6_col0,#T_03250b78_356d_11ec_9ab3_0242ac1c0002row13_col2{\n",
              "            background-color:  #fdb365;\n",
              "            color:  #000000;\n",
              "        }#T_03250b78_356d_11ec_9ab3_0242ac1c0002row0_col7,#T_03250b78_356d_11ec_9ab3_0242ac1c0002row2_col10,#T_03250b78_356d_11ec_9ab3_0242ac1c0002row3_col9,#T_03250b78_356d_11ec_9ab3_0242ac1c0002row7_col0,#T_03250b78_356d_11ec_9ab3_0242ac1c0002row9_col3,#T_03250b78_356d_11ec_9ab3_0242ac1c0002row10_col2{\n",
              "            background-color:  #fca55d;\n",
              "            color:  #000000;\n",
              "        }#T_03250b78_356d_11ec_9ab3_0242ac1c0002row0_col8,#T_03250b78_356d_11ec_9ab3_0242ac1c0002row8_col0,#T_03250b78_356d_11ec_9ab3_0242ac1c0002row10_col12,#T_03250b78_356d_11ec_9ab3_0242ac1c0002row11_col14,#T_03250b78_356d_11ec_9ab3_0242ac1c0002row12_col10,#T_03250b78_356d_11ec_9ab3_0242ac1c0002row14_col11{\n",
              "            background-color:  #fdb567;\n",
              "            color:  #000000;\n",
              "        }#T_03250b78_356d_11ec_9ab3_0242ac1c0002row0_col9,#T_03250b78_356d_11ec_9ab3_0242ac1c0002row9_col0{\n",
              "            background-color:  #fed884;\n",
              "            color:  #000000;\n",
              "        }#T_03250b78_356d_11ec_9ab3_0242ac1c0002row0_col10,#T_03250b78_356d_11ec_9ab3_0242ac1c0002row10_col0{\n",
              "            background-color:  #fdaf62;\n",
              "            color:  #000000;\n",
              "        }#T_03250b78_356d_11ec_9ab3_0242ac1c0002row0_col11,#T_03250b78_356d_11ec_9ab3_0242ac1c0002row2_col11,#T_03250b78_356d_11ec_9ab3_0242ac1c0002row11_col0,#T_03250b78_356d_11ec_9ab3_0242ac1c0002row11_col2{\n",
              "            background-color:  #f88950;\n",
              "            color:  #000000;\n",
              "        }#T_03250b78_356d_11ec_9ab3_0242ac1c0002row0_col12,#T_03250b78_356d_11ec_9ab3_0242ac1c0002row12_col0{\n",
              "            background-color:  #d3ed9c;\n",
              "            color:  #000000;\n",
              "        }#T_03250b78_356d_11ec_9ab3_0242ac1c0002row0_col13,#T_03250b78_356d_11ec_9ab3_0242ac1c0002row13_col0{\n",
              "            background-color:  #fdc776;\n",
              "            color:  #000000;\n",
              "        }#T_03250b78_356d_11ec_9ab3_0242ac1c0002row0_col14,#T_03250b78_356d_11ec_9ab3_0242ac1c0002row1_col12,#T_03250b78_356d_11ec_9ab3_0242ac1c0002row12_col1,#T_03250b78_356d_11ec_9ab3_0242ac1c0002row14_col0{\n",
              "            background-color:  #fff7b2;\n",
              "            color:  #000000;\n",
              "        }#T_03250b78_356d_11ec_9ab3_0242ac1c0002row0_col15,#T_03250b78_356d_11ec_9ab3_0242ac1c0002row9_col11,#T_03250b78_356d_11ec_9ab3_0242ac1c0002row11_col9,#T_03250b78_356d_11ec_9ab3_0242ac1c0002row15_col0{\n",
              "            background-color:  #f46d43;\n",
              "            color:  #000000;\n",
              "        }#T_03250b78_356d_11ec_9ab3_0242ac1c0002row1_col3,#T_03250b78_356d_11ec_9ab3_0242ac1c0002row3_col1{\n",
              "            background-color:  #3f97b7;\n",
              "            color:  #000000;\n",
              "        }#T_03250b78_356d_11ec_9ab3_0242ac1c0002row1_col4,#T_03250b78_356d_11ec_9ab3_0242ac1c0002row4_col1,#T_03250b78_356d_11ec_9ab3_0242ac1c0002row6_col13,#T_03250b78_356d_11ec_9ab3_0242ac1c0002row13_col6{\n",
              "            background-color:  #b8e2a1;\n",
              "            color:  #000000;\n",
              "        }#T_03250b78_356d_11ec_9ab3_0242ac1c0002row1_col6,#T_03250b78_356d_11ec_9ab3_0242ac1c0002row1_col15,#T_03250b78_356d_11ec_9ab3_0242ac1c0002row4_col11,#T_03250b78_356d_11ec_9ab3_0242ac1c0002row6_col1,#T_03250b78_356d_11ec_9ab3_0242ac1c0002row11_col4,#T_03250b78_356d_11ec_9ab3_0242ac1c0002row15_col1{\n",
              "            background-color:  #f88c51;\n",
              "            color:  #000000;\n",
              "        }#T_03250b78_356d_11ec_9ab3_0242ac1c0002row1_col7,#T_03250b78_356d_11ec_9ab3_0242ac1c0002row7_col1{\n",
              "            background-color:  #f99355;\n",
              "            color:  #000000;\n",
              "        }#T_03250b78_356d_11ec_9ab3_0242ac1c0002row1_col8,#T_03250b78_356d_11ec_9ab3_0242ac1c0002row8_col1{\n",
              "            background-color:  #fdc574;\n",
              "            color:  #000000;\n",
              "        }#T_03250b78_356d_11ec_9ab3_0242ac1c0002row1_col9,#T_03250b78_356d_11ec_9ab3_0242ac1c0002row9_col1{\n",
              "            background-color:  #fedc88;\n",
              "            color:  #000000;\n",
              "        }#T_03250b78_356d_11ec_9ab3_0242ac1c0002row1_col10,#T_03250b78_356d_11ec_9ab3_0242ac1c0002row10_col1{\n",
              "            background-color:  #f7844e;\n",
              "            color:  #000000;\n",
              "        }#T_03250b78_356d_11ec_9ab3_0242ac1c0002row1_col11,#T_03250b78_356d_11ec_9ab3_0242ac1c0002row11_col1,#T_03250b78_356d_11ec_9ab3_0242ac1c0002row11_col12,#T_03250b78_356d_11ec_9ab3_0242ac1c0002row12_col11{\n",
              "            background-color:  #fa9b58;\n",
              "            color:  #000000;\n",
              "        }#T_03250b78_356d_11ec_9ab3_0242ac1c0002row1_col13,#T_03250b78_356d_11ec_9ab3_0242ac1c0002row13_col1{\n",
              "            background-color:  #fb9d59;\n",
              "            color:  #000000;\n",
              "        }#T_03250b78_356d_11ec_9ab3_0242ac1c0002row1_col14,#T_03250b78_356d_11ec_9ab3_0242ac1c0002row14_col1{\n",
              "            background-color:  #feeda1;\n",
              "            color:  #000000;\n",
              "        }#T_03250b78_356d_11ec_9ab3_0242ac1c0002row2_col3,#T_03250b78_356d_11ec_9ab3_0242ac1c0002row3_col2{\n",
              "            background-color:  #84cea5;\n",
              "            color:  #000000;\n",
              "        }#T_03250b78_356d_11ec_9ab3_0242ac1c0002row2_col4,#T_03250b78_356d_11ec_9ab3_0242ac1c0002row4_col2{\n",
              "            background-color:  #56b0ad;\n",
              "            color:  #000000;\n",
              "        }#T_03250b78_356d_11ec_9ab3_0242ac1c0002row2_col5,#T_03250b78_356d_11ec_9ab3_0242ac1c0002row5_col2,#T_03250b78_356d_11ec_9ab3_0242ac1c0002row10_col11,#T_03250b78_356d_11ec_9ab3_0242ac1c0002row11_col10{\n",
              "            background-color:  #fdb96a;\n",
              "            color:  #000000;\n",
              "        }#T_03250b78_356d_11ec_9ab3_0242ac1c0002row2_col6,#T_03250b78_356d_11ec_9ab3_0242ac1c0002row3_col11,#T_03250b78_356d_11ec_9ab3_0242ac1c0002row3_col13,#T_03250b78_356d_11ec_9ab3_0242ac1c0002row6_col2,#T_03250b78_356d_11ec_9ab3_0242ac1c0002row11_col3,#T_03250b78_356d_11ec_9ab3_0242ac1c0002row13_col3{\n",
              "            background-color:  #fcaa5f;\n",
              "            color:  #000000;\n",
              "        }#T_03250b78_356d_11ec_9ab3_0242ac1c0002row2_col7,#T_03250b78_356d_11ec_9ab3_0242ac1c0002row7_col2{\n",
              "            background-color:  #f47044;\n",
              "            color:  #000000;\n",
              "        }#T_03250b78_356d_11ec_9ab3_0242ac1c0002row2_col8,#T_03250b78_356d_11ec_9ab3_0242ac1c0002row3_col8,#T_03250b78_356d_11ec_9ab3_0242ac1c0002row8_col2,#T_03250b78_356d_11ec_9ab3_0242ac1c0002row8_col3,#T_03250b78_356d_11ec_9ab3_0242ac1c0002row9_col10,#T_03250b78_356d_11ec_9ab3_0242ac1c0002row10_col9{\n",
              "            background-color:  #fdb768;\n",
              "            color:  #000000;\n",
              "        }#T_03250b78_356d_11ec_9ab3_0242ac1c0002row2_col9,#T_03250b78_356d_11ec_9ab3_0242ac1c0002row9_col2{\n",
              "            background-color:  #fecc7b;\n",
              "            color:  #000000;\n",
              "        }#T_03250b78_356d_11ec_9ab3_0242ac1c0002row2_col12,#T_03250b78_356d_11ec_9ab3_0242ac1c0002row12_col2{\n",
              "            background-color:  #b5e1a2;\n",
              "            color:  #000000;\n",
              "        }#T_03250b78_356d_11ec_9ab3_0242ac1c0002row2_col14,#T_03250b78_356d_11ec_9ab3_0242ac1c0002row14_col2{\n",
              "            background-color:  #fff5ae;\n",
              "            color:  #000000;\n",
              "        }#T_03250b78_356d_11ec_9ab3_0242ac1c0002row2_col15,#T_03250b78_356d_11ec_9ab3_0242ac1c0002row6_col7,#T_03250b78_356d_11ec_9ab3_0242ac1c0002row7_col6,#T_03250b78_356d_11ec_9ab3_0242ac1c0002row9_col15,#T_03250b78_356d_11ec_9ab3_0242ac1c0002row15_col2,#T_03250b78_356d_11ec_9ab3_0242ac1c0002row15_col9{\n",
              "            background-color:  #f26944;\n",
              "            color:  #000000;\n",
              "        }#T_03250b78_356d_11ec_9ab3_0242ac1c0002row3_col4,#T_03250b78_356d_11ec_9ab3_0242ac1c0002row4_col3{\n",
              "            background-color:  #8cd1a4;\n",
              "            color:  #000000;\n",
              "        }#T_03250b78_356d_11ec_9ab3_0242ac1c0002row3_col5,#T_03250b78_356d_11ec_9ab3_0242ac1c0002row5_col3,#T_03250b78_356d_11ec_9ab3_0242ac1c0002row7_col10,#T_03250b78_356d_11ec_9ab3_0242ac1c0002row10_col7{\n",
              "            background-color:  #fdb163;\n",
              "            color:  #000000;\n",
              "        }#T_03250b78_356d_11ec_9ab3_0242ac1c0002row3_col6,#T_03250b78_356d_11ec_9ab3_0242ac1c0002row3_col15,#T_03250b78_356d_11ec_9ab3_0242ac1c0002row6_col3,#T_03250b78_356d_11ec_9ab3_0242ac1c0002row15_col3{\n",
              "            background-color:  #fa9656;\n",
              "            color:  #000000;\n",
              "        }#T_03250b78_356d_11ec_9ab3_0242ac1c0002row3_col7,#T_03250b78_356d_11ec_9ab3_0242ac1c0002row5_col9,#T_03250b78_356d_11ec_9ab3_0242ac1c0002row7_col3,#T_03250b78_356d_11ec_9ab3_0242ac1c0002row7_col11,#T_03250b78_356d_11ec_9ab3_0242ac1c0002row9_col5,#T_03250b78_356d_11ec_9ab3_0242ac1c0002row11_col7{\n",
              "            background-color:  #fdc171;\n",
              "            color:  #000000;\n",
              "        }#T_03250b78_356d_11ec_9ab3_0242ac1c0002row3_col10,#T_03250b78_356d_11ec_9ab3_0242ac1c0002row4_col7,#T_03250b78_356d_11ec_9ab3_0242ac1c0002row7_col4,#T_03250b78_356d_11ec_9ab3_0242ac1c0002row10_col3{\n",
              "            background-color:  #fa9857;\n",
              "            color:  #000000;\n",
              "        }#T_03250b78_356d_11ec_9ab3_0242ac1c0002row3_col12,#T_03250b78_356d_11ec_9ab3_0242ac1c0002row12_col3{\n",
              "            background-color:  #fff6b0;\n",
              "            color:  #000000;\n",
              "        }#T_03250b78_356d_11ec_9ab3_0242ac1c0002row3_col14,#T_03250b78_356d_11ec_9ab3_0242ac1c0002row14_col3{\n",
              "            background-color:  #fffdbc;\n",
              "            color:  #000000;\n",
              "        }#T_03250b78_356d_11ec_9ab3_0242ac1c0002row4_col5,#T_03250b78_356d_11ec_9ab3_0242ac1c0002row5_col4{\n",
              "            background-color:  #fed481;\n",
              "            color:  #000000;\n",
              "        }#T_03250b78_356d_11ec_9ab3_0242ac1c0002row4_col8,#T_03250b78_356d_11ec_9ab3_0242ac1c0002row4_col9,#T_03250b78_356d_11ec_9ab3_0242ac1c0002row8_col4,#T_03250b78_356d_11ec_9ab3_0242ac1c0002row9_col4{\n",
              "            background-color:  #f67f4b;\n",
              "            color:  #000000;\n",
              "        }#T_03250b78_356d_11ec_9ab3_0242ac1c0002row4_col10,#T_03250b78_356d_11ec_9ab3_0242ac1c0002row10_col4{\n",
              "            background-color:  #f67c4a;\n",
              "            color:  #000000;\n",
              "        }#T_03250b78_356d_11ec_9ab3_0242ac1c0002row4_col12,#T_03250b78_356d_11ec_9ab3_0242ac1c0002row12_col4{\n",
              "            background-color:  #94d4a4;\n",
              "            color:  #000000;\n",
              "        }#T_03250b78_356d_11ec_9ab3_0242ac1c0002row4_col13,#T_03250b78_356d_11ec_9ab3_0242ac1c0002row13_col4{\n",
              "            background-color:  #fca85e;\n",
              "            color:  #000000;\n",
              "        }#T_03250b78_356d_11ec_9ab3_0242ac1c0002row4_col14,#T_03250b78_356d_11ec_9ab3_0242ac1c0002row14_col4{\n",
              "            background-color:  #d1ed9c;\n",
              "            color:  #000000;\n",
              "        }#T_03250b78_356d_11ec_9ab3_0242ac1c0002row4_col15,#T_03250b78_356d_11ec_9ab3_0242ac1c0002row8_col10,#T_03250b78_356d_11ec_9ab3_0242ac1c0002row8_col15,#T_03250b78_356d_11ec_9ab3_0242ac1c0002row10_col8,#T_03250b78_356d_11ec_9ab3_0242ac1c0002row13_col14,#T_03250b78_356d_11ec_9ab3_0242ac1c0002row14_col13,#T_03250b78_356d_11ec_9ab3_0242ac1c0002row15_col4,#T_03250b78_356d_11ec_9ab3_0242ac1c0002row15_col8{\n",
              "            background-color:  #f7814c;\n",
              "            color:  #000000;\n",
              "        }#T_03250b78_356d_11ec_9ab3_0242ac1c0002row5_col6,#T_03250b78_356d_11ec_9ab3_0242ac1c0002row6_col5{\n",
              "            background-color:  #a90d45;\n",
              "            color:  #f1f1f1;\n",
              "        }#T_03250b78_356d_11ec_9ab3_0242ac1c0002row5_col7,#T_03250b78_356d_11ec_9ab3_0242ac1c0002row6_col8,#T_03250b78_356d_11ec_9ab3_0242ac1c0002row7_col5,#T_03250b78_356d_11ec_9ab3_0242ac1c0002row8_col6,#T_03250b78_356d_11ec_9ab3_0242ac1c0002row8_col13,#T_03250b78_356d_11ec_9ab3_0242ac1c0002row12_col15,#T_03250b78_356d_11ec_9ab3_0242ac1c0002row13_col8,#T_03250b78_356d_11ec_9ab3_0242ac1c0002row15_col12{\n",
              "            background-color:  #f8864f;\n",
              "            color:  #000000;\n",
              "        }#T_03250b78_356d_11ec_9ab3_0242ac1c0002row5_col8,#T_03250b78_356d_11ec_9ab3_0242ac1c0002row8_col5{\n",
              "            background-color:  #f06744;\n",
              "            color:  #000000;\n",
              "        }#T_03250b78_356d_11ec_9ab3_0242ac1c0002row5_col10,#T_03250b78_356d_11ec_9ab3_0242ac1c0002row10_col5{\n",
              "            background-color:  #ad1246;\n",
              "            color:  #f1f1f1;\n",
              "        }#T_03250b78_356d_11ec_9ab3_0242ac1c0002row5_col12,#T_03250b78_356d_11ec_9ab3_0242ac1c0002row7_col12,#T_03250b78_356d_11ec_9ab3_0242ac1c0002row12_col5,#T_03250b78_356d_11ec_9ab3_0242ac1c0002row12_col7,#T_03250b78_356d_11ec_9ab3_0242ac1c0002row14_col15,#T_03250b78_356d_11ec_9ab3_0242ac1c0002row15_col14{\n",
              "            background-color:  #fed683;\n",
              "            color:  #000000;\n",
              "        }#T_03250b78_356d_11ec_9ab3_0242ac1c0002row5_col13,#T_03250b78_356d_11ec_9ab3_0242ac1c0002row13_col5{\n",
              "            background-color:  #d23a4e;\n",
              "            color:  #f1f1f1;\n",
              "        }#T_03250b78_356d_11ec_9ab3_0242ac1c0002row5_col14,#T_03250b78_356d_11ec_9ab3_0242ac1c0002row14_col5{\n",
              "            background-color:  #fed07e;\n",
              "            color:  #000000;\n",
              "        }#T_03250b78_356d_11ec_9ab3_0242ac1c0002row5_col15,#T_03250b78_356d_11ec_9ab3_0242ac1c0002row15_col5{\n",
              "            background-color:  #fff2aa;\n",
              "            color:  #000000;\n",
              "        }#T_03250b78_356d_11ec_9ab3_0242ac1c0002row6_col9,#T_03250b78_356d_11ec_9ab3_0242ac1c0002row7_col15,#T_03250b78_356d_11ec_9ab3_0242ac1c0002row9_col6,#T_03250b78_356d_11ec_9ab3_0242ac1c0002row15_col7{\n",
              "            background-color:  #fee28f;\n",
              "            color:  #000000;\n",
              "        }#T_03250b78_356d_11ec_9ab3_0242ac1c0002row6_col10,#T_03250b78_356d_11ec_9ab3_0242ac1c0002row10_col6{\n",
              "            background-color:  #a2d9a4;\n",
              "            color:  #000000;\n",
              "        }#T_03250b78_356d_11ec_9ab3_0242ac1c0002row6_col11,#T_03250b78_356d_11ec_9ab3_0242ac1c0002row11_col6{\n",
              "            background-color:  #c9314c;\n",
              "            color:  #f1f1f1;\n",
              "        }#T_03250b78_356d_11ec_9ab3_0242ac1c0002row6_col12,#T_03250b78_356d_11ec_9ab3_0242ac1c0002row12_col6{\n",
              "            background-color:  #f98e52;\n",
              "            color:  #000000;\n",
              "        }#T_03250b78_356d_11ec_9ab3_0242ac1c0002row6_col14,#T_03250b78_356d_11ec_9ab3_0242ac1c0002row14_col6{\n",
              "            background-color:  #f67a49;\n",
              "            color:  #000000;\n",
              "        }#T_03250b78_356d_11ec_9ab3_0242ac1c0002row6_col15,#T_03250b78_356d_11ec_9ab3_0242ac1c0002row15_col6{\n",
              "            background-color:  #dd4a4c;\n",
              "            color:  #000000;\n",
              "        }#T_03250b78_356d_11ec_9ab3_0242ac1c0002row7_col8,#T_03250b78_356d_11ec_9ab3_0242ac1c0002row8_col7,#T_03250b78_356d_11ec_9ab3_0242ac1c0002row11_col13,#T_03250b78_356d_11ec_9ab3_0242ac1c0002row13_col11,#T_03250b78_356d_11ec_9ab3_0242ac1c0002row13_col15,#T_03250b78_356d_11ec_9ab3_0242ac1c0002row15_col13{\n",
              "            background-color:  #e2514a;\n",
              "            color:  #000000;\n",
              "        }#T_03250b78_356d_11ec_9ab3_0242ac1c0002row7_col9,#T_03250b78_356d_11ec_9ab3_0242ac1c0002row9_col7{\n",
              "            background-color:  #b81e48;\n",
              "            color:  #f1f1f1;\n",
              "        }#T_03250b78_356d_11ec_9ab3_0242ac1c0002row7_col13,#T_03250b78_356d_11ec_9ab3_0242ac1c0002row13_col7{\n",
              "            background-color:  #f57748;\n",
              "            color:  #000000;\n",
              "        }#T_03250b78_356d_11ec_9ab3_0242ac1c0002row7_col14,#T_03250b78_356d_11ec_9ab3_0242ac1c0002row14_col7{\n",
              "            background-color:  #fba35c;\n",
              "            color:  #000000;\n",
              "        }#T_03250b78_356d_11ec_9ab3_0242ac1c0002row8_col9,#T_03250b78_356d_11ec_9ab3_0242ac1c0002row9_col8{\n",
              "            background-color:  #fed27f;\n",
              "            color:  #000000;\n",
              "        }#T_03250b78_356d_11ec_9ab3_0242ac1c0002row8_col11,#T_03250b78_356d_11ec_9ab3_0242ac1c0002row11_col8{\n",
              "            background-color:  #fece7c;\n",
              "            color:  #000000;\n",
              "        }#T_03250b78_356d_11ec_9ab3_0242ac1c0002row8_col12,#T_03250b78_356d_11ec_9ab3_0242ac1c0002row12_col8{\n",
              "            background-color:  #9e0142;\n",
              "            color:  #f1f1f1;\n",
              "        }#T_03250b78_356d_11ec_9ab3_0242ac1c0002row8_col14,#T_03250b78_356d_11ec_9ab3_0242ac1c0002row14_col8{\n",
              "            background-color:  #fff8b4;\n",
              "            color:  #000000;\n",
              "        }#T_03250b78_356d_11ec_9ab3_0242ac1c0002row9_col12,#T_03250b78_356d_11ec_9ab3_0242ac1c0002row12_col9{\n",
              "            background-color:  #e45549;\n",
              "            color:  #000000;\n",
              "        }#T_03250b78_356d_11ec_9ab3_0242ac1c0002row9_col13,#T_03250b78_356d_11ec_9ab3_0242ac1c0002row13_col9{\n",
              "            background-color:  #fdad60;\n",
              "            color:  #000000;\n",
              "        }#T_03250b78_356d_11ec_9ab3_0242ac1c0002row9_col14,#T_03250b78_356d_11ec_9ab3_0242ac1c0002row14_col9{\n",
              "            background-color:  #f57547;\n",
              "            color:  #000000;\n",
              "        }#T_03250b78_356d_11ec_9ab3_0242ac1c0002row10_col13,#T_03250b78_356d_11ec_9ab3_0242ac1c0002row13_col10{\n",
              "            background-color:  #c3e79f;\n",
              "            color:  #000000;\n",
              "        }#T_03250b78_356d_11ec_9ab3_0242ac1c0002row10_col14,#T_03250b78_356d_11ec_9ab3_0242ac1c0002row14_col10{\n",
              "            background-color:  #d9444d;\n",
              "            color:  #f1f1f1;\n",
              "        }#T_03250b78_356d_11ec_9ab3_0242ac1c0002row10_col15,#T_03250b78_356d_11ec_9ab3_0242ac1c0002row15_col10{\n",
              "            background-color:  #d7414e;\n",
              "            color:  #f1f1f1;\n",
              "        }#T_03250b78_356d_11ec_9ab3_0242ac1c0002row11_col15,#T_03250b78_356d_11ec_9ab3_0242ac1c0002row15_col11{\n",
              "            background-color:  #fff1a8;\n",
              "            color:  #000000;\n",
              "        }#T_03250b78_356d_11ec_9ab3_0242ac1c0002row12_col13,#T_03250b78_356d_11ec_9ab3_0242ac1c0002row13_col12{\n",
              "            background-color:  #fba05b;\n",
              "            color:  #000000;\n",
              "        }#T_03250b78_356d_11ec_9ab3_0242ac1c0002row12_col14,#T_03250b78_356d_11ec_9ab3_0242ac1c0002row14_col12{\n",
              "            background-color:  #feca79;\n",
              "            color:  #000000;\n",
              "        }</style><table id=\"T_03250b78_356d_11ec_9ab3_0242ac1c0002\" ><thead>    <tr>        <th class=\"blank level0\" ></th>        <th class=\"col_heading level0 col0\" >x-box</th>        <th class=\"col_heading level0 col1\" >y-box</th>        <th class=\"col_heading level0 col2\" >width</th>        <th class=\"col_heading level0 col3\" >high</th>        <th class=\"col_heading level0 col4\" >onpix</th>        <th class=\"col_heading level0 col5\" >x-bar</th>        <th class=\"col_heading level0 col6\" >y-bar</th>        <th class=\"col_heading level0 col7\" >x2bar</th>        <th class=\"col_heading level0 col8\" >y2bar</th>        <th class=\"col_heading level0 col9\" >xybar</th>        <th class=\"col_heading level0 col10\" >x2ybr</th>        <th class=\"col_heading level0 col11\" >xy2br</th>        <th class=\"col_heading level0 col12\" >x-ege</th>        <th class=\"col_heading level0 col13\" >xegvy</th>        <th class=\"col_heading level0 col14\" >y-ege</th>        <th class=\"col_heading level0 col15\" >yegvx</th>    </tr></thead><tbody>\n",
              "                <tr>\n",
              "                        <th id=\"T_03250b78_356d_11ec_9ab3_0242ac1c0002level0_row0\" class=\"row_heading level0 row0\" >x-box</th>\n",
              "                        <td id=\"T_03250b78_356d_11ec_9ab3_0242ac1c0002row0_col0\" class=\"data row0 col0\" >1.00</td>\n",
              "                        <td id=\"T_03250b78_356d_11ec_9ab3_0242ac1c0002row0_col1\" class=\"data row0 col1\" >0.76</td>\n",
              "                        <td id=\"T_03250b78_356d_11ec_9ab3_0242ac1c0002row0_col2\" class=\"data row0 col2\" >0.85</td>\n",
              "                        <td id=\"T_03250b78_356d_11ec_9ab3_0242ac1c0002row0_col3\" class=\"data row0 col3\" >0.67</td>\n",
              "                        <td id=\"T_03250b78_356d_11ec_9ab3_0242ac1c0002row0_col4\" class=\"data row0 col4\" >0.62</td>\n",
              "                        <td id=\"T_03250b78_356d_11ec_9ab3_0242ac1c0002row0_col5\" class=\"data row0 col5\" >-0.03</td>\n",
              "                        <td id=\"T_03250b78_356d_11ec_9ab3_0242ac1c0002row0_col6\" class=\"data row0 col6\" >0.05</td>\n",
              "                        <td id=\"T_03250b78_356d_11ec_9ab3_0242ac1c0002row0_col7\" class=\"data row0 col7\" >0.01</td>\n",
              "                        <td id=\"T_03250b78_356d_11ec_9ab3_0242ac1c0002row0_col8\" class=\"data row0 col8\" >0.05</td>\n",
              "                        <td id=\"T_03250b78_356d_11ec_9ab3_0242ac1c0002row0_col9\" class=\"data row0 col9\" >0.15</td>\n",
              "                        <td id=\"T_03250b78_356d_11ec_9ab3_0242ac1c0002row0_col10\" class=\"data row0 col10\" >0.04</td>\n",
              "                        <td id=\"T_03250b78_356d_11ec_9ab3_0242ac1c0002row0_col11\" class=\"data row0 col11\" >-0.05</td>\n",
              "                        <td id=\"T_03250b78_356d_11ec_9ab3_0242ac1c0002row0_col12\" class=\"data row0 col12\" >0.49</td>\n",
              "                        <td id=\"T_03250b78_356d_11ec_9ab3_0242ac1c0002row0_col13\" class=\"data row0 col13\" >0.10</td>\n",
              "                        <td id=\"T_03250b78_356d_11ec_9ab3_0242ac1c0002row0_col14\" class=\"data row0 col14\" >0.27</td>\n",
              "                        <td id=\"T_03250b78_356d_11ec_9ab3_0242ac1c0002row0_col15\" class=\"data row0 col15\" >-0.11</td>\n",
              "            </tr>\n",
              "            <tr>\n",
              "                        <th id=\"T_03250b78_356d_11ec_9ab3_0242ac1c0002level0_row1\" class=\"row_heading level0 row1\" >y-box</th>\n",
              "                        <td id=\"T_03250b78_356d_11ec_9ab3_0242ac1c0002row1_col0\" class=\"data row1 col0\" >0.76</td>\n",
              "                        <td id=\"T_03250b78_356d_11ec_9ab3_0242ac1c0002row1_col1\" class=\"data row1 col1\" >1.00</td>\n",
              "                        <td id=\"T_03250b78_356d_11ec_9ab3_0242ac1c0002row1_col2\" class=\"data row1 col2\" >0.67</td>\n",
              "                        <td id=\"T_03250b78_356d_11ec_9ab3_0242ac1c0002row1_col3\" class=\"data row1 col3\" >0.82</td>\n",
              "                        <td id=\"T_03250b78_356d_11ec_9ab3_0242ac1c0002row1_col4\" class=\"data row1 col4\" >0.56</td>\n",
              "                        <td id=\"T_03250b78_356d_11ec_9ab3_0242ac1c0002row1_col5\" class=\"data row1 col5\" >0.05</td>\n",
              "                        <td id=\"T_03250b78_356d_11ec_9ab3_0242ac1c0002row1_col6\" class=\"data row1 col6\" >-0.04</td>\n",
              "                        <td id=\"T_03250b78_356d_11ec_9ab3_0242ac1c0002row1_col7\" class=\"data row1 col7\" >-0.03</td>\n",
              "                        <td id=\"T_03250b78_356d_11ec_9ab3_0242ac1c0002row1_col8\" class=\"data row1 col8\" >0.10</td>\n",
              "                        <td id=\"T_03250b78_356d_11ec_9ab3_0242ac1c0002row1_col9\" class=\"data row1 col9\" >0.16</td>\n",
              "                        <td id=\"T_03250b78_356d_11ec_9ab3_0242ac1c0002row1_col10\" class=\"data row1 col10\" >-0.05</td>\n",
              "                        <td id=\"T_03250b78_356d_11ec_9ab3_0242ac1c0002row1_col11\" class=\"data row1 col11\" >-0.01</td>\n",
              "                        <td id=\"T_03250b78_356d_11ec_9ab3_0242ac1c0002row1_col12\" class=\"data row1 col12\" >0.27</td>\n",
              "                        <td id=\"T_03250b78_356d_11ec_9ab3_0242ac1c0002row1_col13\" class=\"data row1 col13\" >-0.00</td>\n",
              "                        <td id=\"T_03250b78_356d_11ec_9ab3_0242ac1c0002row1_col14\" class=\"data row1 col14\" >0.23</td>\n",
              "                        <td id=\"T_03250b78_356d_11ec_9ab3_0242ac1c0002row1_col15\" class=\"data row1 col15\" >-0.04</td>\n",
              "            </tr>\n",
              "            <tr>\n",
              "                        <th id=\"T_03250b78_356d_11ec_9ab3_0242ac1c0002level0_row2\" class=\"row_heading level0 row2\" >width</th>\n",
              "                        <td id=\"T_03250b78_356d_11ec_9ab3_0242ac1c0002row2_col0\" class=\"data row2 col0\" >0.85</td>\n",
              "                        <td id=\"T_03250b78_356d_11ec_9ab3_0242ac1c0002row2_col1\" class=\"data row2 col1\" >0.67</td>\n",
              "                        <td id=\"T_03250b78_356d_11ec_9ab3_0242ac1c0002row2_col2\" class=\"data row2 col2\" >1.00</td>\n",
              "                        <td id=\"T_03250b78_356d_11ec_9ab3_0242ac1c0002row2_col3\" class=\"data row2 col3\" >0.66</td>\n",
              "                        <td id=\"T_03250b78_356d_11ec_9ab3_0242ac1c0002row2_col4\" class=\"data row2 col4\" >0.77</td>\n",
              "                        <td id=\"T_03250b78_356d_11ec_9ab3_0242ac1c0002row2_col5\" class=\"data row2 col5\" >0.06</td>\n",
              "                        <td id=\"T_03250b78_356d_11ec_9ab3_0242ac1c0002row2_col6\" class=\"data row2 col6\" >0.02</td>\n",
              "                        <td id=\"T_03250b78_356d_11ec_9ab3_0242ac1c0002row2_col7\" class=\"data row2 col7\" >-0.10</td>\n",
              "                        <td id=\"T_03250b78_356d_11ec_9ab3_0242ac1c0002row2_col8\" class=\"data row2 col8\" >0.06</td>\n",
              "                        <td id=\"T_03250b78_356d_11ec_9ab3_0242ac1c0002row2_col9\" class=\"data row2 col9\" >0.12</td>\n",
              "                        <td id=\"T_03250b78_356d_11ec_9ab3_0242ac1c0002row2_col10\" class=\"data row2 col10\" >0.01</td>\n",
              "                        <td id=\"T_03250b78_356d_11ec_9ab3_0242ac1c0002row2_col11\" class=\"data row2 col11\" >-0.05</td>\n",
              "                        <td id=\"T_03250b78_356d_11ec_9ab3_0242ac1c0002row2_col12\" class=\"data row2 col12\" >0.56</td>\n",
              "                        <td id=\"T_03250b78_356d_11ec_9ab3_0242ac1c0002row2_col13\" class=\"data row2 col13\" >0.05</td>\n",
              "                        <td id=\"T_03250b78_356d_11ec_9ab3_0242ac1c0002row2_col14\" class=\"data row2 col14\" >0.26</td>\n",
              "                        <td id=\"T_03250b78_356d_11ec_9ab3_0242ac1c0002row2_col15\" class=\"data row2 col15\" >-0.12</td>\n",
              "            </tr>\n",
              "            <tr>\n",
              "                        <th id=\"T_03250b78_356d_11ec_9ab3_0242ac1c0002level0_row3\" class=\"row_heading level0 row3\" >high</th>\n",
              "                        <td id=\"T_03250b78_356d_11ec_9ab3_0242ac1c0002row3_col0\" class=\"data row3 col0\" >0.67</td>\n",
              "                        <td id=\"T_03250b78_356d_11ec_9ab3_0242ac1c0002row3_col1\" class=\"data row3 col1\" >0.82</td>\n",
              "                        <td id=\"T_03250b78_356d_11ec_9ab3_0242ac1c0002row3_col2\" class=\"data row3 col2\" >0.66</td>\n",
              "                        <td id=\"T_03250b78_356d_11ec_9ab3_0242ac1c0002row3_col3\" class=\"data row3 col3\" >1.00</td>\n",
              "                        <td id=\"T_03250b78_356d_11ec_9ab3_0242ac1c0002row3_col4\" class=\"data row3 col4\" >0.64</td>\n",
              "                        <td id=\"T_03250b78_356d_11ec_9ab3_0242ac1c0002row3_col5\" class=\"data row3 col5\" >0.04</td>\n",
              "                        <td id=\"T_03250b78_356d_11ec_9ab3_0242ac1c0002row3_col6\" class=\"data row3 col6\" >-0.02</td>\n",
              "                        <td id=\"T_03250b78_356d_11ec_9ab3_0242ac1c0002row3_col7\" class=\"data row3 col7\" >0.08</td>\n",
              "                        <td id=\"T_03250b78_356d_11ec_9ab3_0242ac1c0002row3_col8\" class=\"data row3 col8\" >0.06</td>\n",
              "                        <td id=\"T_03250b78_356d_11ec_9ab3_0242ac1c0002row3_col9\" class=\"data row3 col9\" >0.01</td>\n",
              "                        <td id=\"T_03250b78_356d_11ec_9ab3_0242ac1c0002row3_col10\" class=\"data row3 col10\" >-0.01</td>\n",
              "                        <td id=\"T_03250b78_356d_11ec_9ab3_0242ac1c0002row3_col11\" class=\"data row3 col11\" >0.03</td>\n",
              "                        <td id=\"T_03250b78_356d_11ec_9ab3_0242ac1c0002row3_col12\" class=\"data row3 col12\" >0.27</td>\n",
              "                        <td id=\"T_03250b78_356d_11ec_9ab3_0242ac1c0002row3_col13\" class=\"data row3 col13\" >0.03</td>\n",
              "                        <td id=\"T_03250b78_356d_11ec_9ab3_0242ac1c0002row3_col14\" class=\"data row3 col14\" >0.30</td>\n",
              "                        <td id=\"T_03250b78_356d_11ec_9ab3_0242ac1c0002row3_col15\" class=\"data row3 col15\" >-0.02</td>\n",
              "            </tr>\n",
              "            <tr>\n",
              "                        <th id=\"T_03250b78_356d_11ec_9ab3_0242ac1c0002level0_row4\" class=\"row_heading level0 row4\" >onpix</th>\n",
              "                        <td id=\"T_03250b78_356d_11ec_9ab3_0242ac1c0002row4_col0\" class=\"data row4 col0\" >0.62</td>\n",
              "                        <td id=\"T_03250b78_356d_11ec_9ab3_0242ac1c0002row4_col1\" class=\"data row4 col1\" >0.56</td>\n",
              "                        <td id=\"T_03250b78_356d_11ec_9ab3_0242ac1c0002row4_col2\" class=\"data row4 col2\" >0.77</td>\n",
              "                        <td id=\"T_03250b78_356d_11ec_9ab3_0242ac1c0002row4_col3\" class=\"data row4 col3\" >0.64</td>\n",
              "                        <td id=\"T_03250b78_356d_11ec_9ab3_0242ac1c0002row4_col4\" class=\"data row4 col4\" >1.00</td>\n",
              "                        <td id=\"T_03250b78_356d_11ec_9ab3_0242ac1c0002row4_col5\" class=\"data row4 col5\" >0.14</td>\n",
              "                        <td id=\"T_03250b78_356d_11ec_9ab3_0242ac1c0002row4_col6\" class=\"data row4 col6\" >-0.03</td>\n",
              "                        <td id=\"T_03250b78_356d_11ec_9ab3_0242ac1c0002row4_col7\" class=\"data row4 col7\" >-0.01</td>\n",
              "                        <td id=\"T_03250b78_356d_11ec_9ab3_0242ac1c0002row4_col8\" class=\"data row4 col8\" >-0.07</td>\n",
              "                        <td id=\"T_03250b78_356d_11ec_9ab3_0242ac1c0002row4_col9\" class=\"data row4 col9\" >-0.07</td>\n",
              "                        <td id=\"T_03250b78_356d_11ec_9ab3_0242ac1c0002row4_col10\" class=\"data row4 col10\" >-0.07</td>\n",
              "                        <td id=\"T_03250b78_356d_11ec_9ab3_0242ac1c0002row4_col11\" class=\"data row4 col11\" >-0.04</td>\n",
              "                        <td id=\"T_03250b78_356d_11ec_9ab3_0242ac1c0002row4_col12\" class=\"data row4 col12\" >0.63</td>\n",
              "                        <td id=\"T_03250b78_356d_11ec_9ab3_0242ac1c0002row4_col13\" class=\"data row4 col13\" >0.02</td>\n",
              "                        <td id=\"T_03250b78_356d_11ec_9ab3_0242ac1c0002row4_col14\" class=\"data row4 col14\" >0.49</td>\n",
              "                        <td id=\"T_03250b78_356d_11ec_9ab3_0242ac1c0002row4_col15\" class=\"data row4 col15\" >-0.06</td>\n",
              "            </tr>\n",
              "            <tr>\n",
              "                        <th id=\"T_03250b78_356d_11ec_9ab3_0242ac1c0002level0_row5\" class=\"row_heading level0 row5\" >x-bar</th>\n",
              "                        <td id=\"T_03250b78_356d_11ec_9ab3_0242ac1c0002row5_col0\" class=\"data row5 col0\" >-0.03</td>\n",
              "                        <td id=\"T_03250b78_356d_11ec_9ab3_0242ac1c0002row5_col1\" class=\"data row5 col1\" >0.05</td>\n",
              "                        <td id=\"T_03250b78_356d_11ec_9ab3_0242ac1c0002row5_col2\" class=\"data row5 col2\" >0.06</td>\n",
              "                        <td id=\"T_03250b78_356d_11ec_9ab3_0242ac1c0002row5_col3\" class=\"data row5 col3\" >0.04</td>\n",
              "                        <td id=\"T_03250b78_356d_11ec_9ab3_0242ac1c0002row5_col4\" class=\"data row5 col4\" >0.14</td>\n",
              "                        <td id=\"T_03250b78_356d_11ec_9ab3_0242ac1c0002row5_col5\" class=\"data row5 col5\" >1.00</td>\n",
              "                        <td id=\"T_03250b78_356d_11ec_9ab3_0242ac1c0002row5_col6\" class=\"data row5 col6\" >-0.36</td>\n",
              "                        <td id=\"T_03250b78_356d_11ec_9ab3_0242ac1c0002row5_col7\" class=\"data row5 col7\" >-0.05</td>\n",
              "                        <td id=\"T_03250b78_356d_11ec_9ab3_0242ac1c0002row5_col8\" class=\"data row5 col8\" >-0.12</td>\n",
              "                        <td id=\"T_03250b78_356d_11ec_9ab3_0242ac1c0002row5_col9\" class=\"data row5 col9\" >0.09</td>\n",
              "                        <td id=\"T_03250b78_356d_11ec_9ab3_0242ac1c0002row5_col10\" class=\"data row5 col10\" >-0.34</td>\n",
              "                        <td id=\"T_03250b78_356d_11ec_9ab3_0242ac1c0002row5_col11\" class=\"data row5 col11\" >-0.03</td>\n",
              "                        <td id=\"T_03250b78_356d_11ec_9ab3_0242ac1c0002row5_col12\" class=\"data row5 col12\" >0.14</td>\n",
              "                        <td id=\"T_03250b78_356d_11ec_9ab3_0242ac1c0002row5_col13\" class=\"data row5 col13\" >-0.25</td>\n",
              "                        <td id=\"T_03250b78_356d_11ec_9ab3_0242ac1c0002row5_col14\" class=\"data row5 col14\" >0.13</td>\n",
              "                        <td id=\"T_03250b78_356d_11ec_9ab3_0242ac1c0002row5_col15\" class=\"data row5 col15\" >0.25</td>\n",
              "            </tr>\n",
              "            <tr>\n",
              "                        <th id=\"T_03250b78_356d_11ec_9ab3_0242ac1c0002level0_row6\" class=\"row_heading level0 row6\" >y-bar</th>\n",
              "                        <td id=\"T_03250b78_356d_11ec_9ab3_0242ac1c0002row6_col0\" class=\"data row6 col0\" >0.05</td>\n",
              "                        <td id=\"T_03250b78_356d_11ec_9ab3_0242ac1c0002row6_col1\" class=\"data row6 col1\" >-0.04</td>\n",
              "                        <td id=\"T_03250b78_356d_11ec_9ab3_0242ac1c0002row6_col2\" class=\"data row6 col2\" >0.02</td>\n",
              "                        <td id=\"T_03250b78_356d_11ec_9ab3_0242ac1c0002row6_col3\" class=\"data row6 col3\" >-0.02</td>\n",
              "                        <td id=\"T_03250b78_356d_11ec_9ab3_0242ac1c0002row6_col4\" class=\"data row6 col4\" >-0.03</td>\n",
              "                        <td id=\"T_03250b78_356d_11ec_9ab3_0242ac1c0002row6_col5\" class=\"data row6 col5\" >-0.36</td>\n",
              "                        <td id=\"T_03250b78_356d_11ec_9ab3_0242ac1c0002row6_col6\" class=\"data row6 col6\" >1.00</td>\n",
              "                        <td id=\"T_03250b78_356d_11ec_9ab3_0242ac1c0002row6_col7\" class=\"data row6 col7\" >-0.12</td>\n",
              "                        <td id=\"T_03250b78_356d_11ec_9ab3_0242ac1c0002row6_col8\" class=\"data row6 col8\" >-0.05</td>\n",
              "                        <td id=\"T_03250b78_356d_11ec_9ab3_0242ac1c0002row6_col9\" class=\"data row6 col9\" >0.18</td>\n",
              "                        <td id=\"T_03250b78_356d_11ec_9ab3_0242ac1c0002row6_col10\" class=\"data row6 col10\" >0.60</td>\n",
              "                        <td id=\"T_03250b78_356d_11ec_9ab3_0242ac1c0002row6_col11\" class=\"data row6 col11\" >-0.27</td>\n",
              "                        <td id=\"T_03250b78_356d_11ec_9ab3_0242ac1c0002row6_col12\" class=\"data row6 col12\" >-0.04</td>\n",
              "                        <td id=\"T_03250b78_356d_11ec_9ab3_0242ac1c0002row6_col13\" class=\"data row6 col13\" >0.56</td>\n",
              "                        <td id=\"T_03250b78_356d_11ec_9ab3_0242ac1c0002row6_col14\" class=\"data row6 col14\" >-0.08</td>\n",
              "                        <td id=\"T_03250b78_356d_11ec_9ab3_0242ac1c0002row6_col15\" class=\"data row6 col15\" >-0.21</td>\n",
              "            </tr>\n",
              "            <tr>\n",
              "                        <th id=\"T_03250b78_356d_11ec_9ab3_0242ac1c0002level0_row7\" class=\"row_heading level0 row7\" >x2bar</th>\n",
              "                        <td id=\"T_03250b78_356d_11ec_9ab3_0242ac1c0002row7_col0\" class=\"data row7 col0\" >0.01</td>\n",
              "                        <td id=\"T_03250b78_356d_11ec_9ab3_0242ac1c0002row7_col1\" class=\"data row7 col1\" >-0.03</td>\n",
              "                        <td id=\"T_03250b78_356d_11ec_9ab3_0242ac1c0002row7_col2\" class=\"data row7 col2\" >-0.10</td>\n",
              "                        <td id=\"T_03250b78_356d_11ec_9ab3_0242ac1c0002row7_col3\" class=\"data row7 col3\" >0.08</td>\n",
              "                        <td id=\"T_03250b78_356d_11ec_9ab3_0242ac1c0002row7_col4\" class=\"data row7 col4\" >-0.01</td>\n",
              "                        <td id=\"T_03250b78_356d_11ec_9ab3_0242ac1c0002row7_col5\" class=\"data row7 col5\" >-0.05</td>\n",
              "                        <td id=\"T_03250b78_356d_11ec_9ab3_0242ac1c0002row7_col6\" class=\"data row7 col6\" >-0.12</td>\n",
              "                        <td id=\"T_03250b78_356d_11ec_9ab3_0242ac1c0002row7_col7\" class=\"data row7 col7\" >1.00</td>\n",
              "                        <td id=\"T_03250b78_356d_11ec_9ab3_0242ac1c0002row7_col8\" class=\"data row7 col8\" >-0.19</td>\n",
              "                        <td id=\"T_03250b78_356d_11ec_9ab3_0242ac1c0002row7_col9\" class=\"data row7 col9\" >-0.32</td>\n",
              "                        <td id=\"T_03250b78_356d_11ec_9ab3_0242ac1c0002row7_col10\" class=\"data row7 col10\" >0.04</td>\n",
              "                        <td id=\"T_03250b78_356d_11ec_9ab3_0242ac1c0002row7_col11\" class=\"data row7 col11\" >0.08</td>\n",
              "                        <td id=\"T_03250b78_356d_11ec_9ab3_0242ac1c0002row7_col12\" class=\"data row7 col12\" >0.14</td>\n",
              "                        <td id=\"T_03250b78_356d_11ec_9ab3_0242ac1c0002row7_col13\" class=\"data row7 col13\" >-0.08</td>\n",
              "                        <td id=\"T_03250b78_356d_11ec_9ab3_0242ac1c0002row7_col14\" class=\"data row7 col14\" >0.01</td>\n",
              "                        <td id=\"T_03250b78_356d_11ec_9ab3_0242ac1c0002row7_col15\" class=\"data row7 col15\" >0.18</td>\n",
              "            </tr>\n",
              "            <tr>\n",
              "                        <th id=\"T_03250b78_356d_11ec_9ab3_0242ac1c0002level0_row8\" class=\"row_heading level0 row8\" >y2bar</th>\n",
              "                        <td id=\"T_03250b78_356d_11ec_9ab3_0242ac1c0002row8_col0\" class=\"data row8 col0\" >0.05</td>\n",
              "                        <td id=\"T_03250b78_356d_11ec_9ab3_0242ac1c0002row8_col1\" class=\"data row8 col1\" >0.10</td>\n",
              "                        <td id=\"T_03250b78_356d_11ec_9ab3_0242ac1c0002row8_col2\" class=\"data row8 col2\" >0.06</td>\n",
              "                        <td id=\"T_03250b78_356d_11ec_9ab3_0242ac1c0002row8_col3\" class=\"data row8 col3\" >0.06</td>\n",
              "                        <td id=\"T_03250b78_356d_11ec_9ab3_0242ac1c0002row8_col4\" class=\"data row8 col4\" >-0.07</td>\n",
              "                        <td id=\"T_03250b78_356d_11ec_9ab3_0242ac1c0002row8_col5\" class=\"data row8 col5\" >-0.12</td>\n",
              "                        <td id=\"T_03250b78_356d_11ec_9ab3_0242ac1c0002row8_col6\" class=\"data row8 col6\" >-0.05</td>\n",
              "                        <td id=\"T_03250b78_356d_11ec_9ab3_0242ac1c0002row8_col7\" class=\"data row8 col7\" >-0.19</td>\n",
              "                        <td id=\"T_03250b78_356d_11ec_9ab3_0242ac1c0002row8_col8\" class=\"data row8 col8\" >1.00</td>\n",
              "                        <td id=\"T_03250b78_356d_11ec_9ab3_0242ac1c0002row8_col9\" class=\"data row8 col9\" >0.13</td>\n",
              "                        <td id=\"T_03250b78_356d_11ec_9ab3_0242ac1c0002row8_col10\" class=\"data row8 col10\" >-0.06</td>\n",
              "                        <td id=\"T_03250b78_356d_11ec_9ab3_0242ac1c0002row8_col11\" class=\"data row8 col11\" >0.12</td>\n",
              "                        <td id=\"T_03250b78_356d_11ec_9ab3_0242ac1c0002row8_col12\" class=\"data row8 col12\" >-0.38</td>\n",
              "                        <td id=\"T_03250b78_356d_11ec_9ab3_0242ac1c0002row8_col13\" class=\"data row8 col13\" >-0.05</td>\n",
              "                        <td id=\"T_03250b78_356d_11ec_9ab3_0242ac1c0002row8_col14\" class=\"data row8 col14\" >0.28</td>\n",
              "                        <td id=\"T_03250b78_356d_11ec_9ab3_0242ac1c0002row8_col15\" class=\"data row8 col15\" >-0.06</td>\n",
              "            </tr>\n",
              "            <tr>\n",
              "                        <th id=\"T_03250b78_356d_11ec_9ab3_0242ac1c0002level0_row9\" class=\"row_heading level0 row9\" >xybar</th>\n",
              "                        <td id=\"T_03250b78_356d_11ec_9ab3_0242ac1c0002row9_col0\" class=\"data row9 col0\" >0.15</td>\n",
              "                        <td id=\"T_03250b78_356d_11ec_9ab3_0242ac1c0002row9_col1\" class=\"data row9 col1\" >0.16</td>\n",
              "                        <td id=\"T_03250b78_356d_11ec_9ab3_0242ac1c0002row9_col2\" class=\"data row9 col2\" >0.12</td>\n",
              "                        <td id=\"T_03250b78_356d_11ec_9ab3_0242ac1c0002row9_col3\" class=\"data row9 col3\" >0.01</td>\n",
              "                        <td id=\"T_03250b78_356d_11ec_9ab3_0242ac1c0002row9_col4\" class=\"data row9 col4\" >-0.07</td>\n",
              "                        <td id=\"T_03250b78_356d_11ec_9ab3_0242ac1c0002row9_col5\" class=\"data row9 col5\" >0.09</td>\n",
              "                        <td id=\"T_03250b78_356d_11ec_9ab3_0242ac1c0002row9_col6\" class=\"data row9 col6\" >0.18</td>\n",
              "                        <td id=\"T_03250b78_356d_11ec_9ab3_0242ac1c0002row9_col7\" class=\"data row9 col7\" >-0.32</td>\n",
              "                        <td id=\"T_03250b78_356d_11ec_9ab3_0242ac1c0002row9_col8\" class=\"data row9 col8\" >0.13</td>\n",
              "                        <td id=\"T_03250b78_356d_11ec_9ab3_0242ac1c0002row9_col9\" class=\"data row9 col9\" >1.00</td>\n",
              "                        <td id=\"T_03250b78_356d_11ec_9ab3_0242ac1c0002row9_col10\" class=\"data row9 col10\" >0.06</td>\n",
              "                        <td id=\"T_03250b78_356d_11ec_9ab3_0242ac1c0002row9_col11\" class=\"data row9 col11\" >-0.11</td>\n",
              "                        <td id=\"T_03250b78_356d_11ec_9ab3_0242ac1c0002row9_col12\" class=\"data row9 col12\" >-0.18</td>\n",
              "                        <td id=\"T_03250b78_356d_11ec_9ab3_0242ac1c0002row9_col13\" class=\"data row9 col13\" >0.03</td>\n",
              "                        <td id=\"T_03250b78_356d_11ec_9ab3_0242ac1c0002row9_col14\" class=\"data row9 col14\" >-0.09</td>\n",
              "                        <td id=\"T_03250b78_356d_11ec_9ab3_0242ac1c0002row9_col15\" class=\"data row9 col15\" >-0.11</td>\n",
              "            </tr>\n",
              "            <tr>\n",
              "                        <th id=\"T_03250b78_356d_11ec_9ab3_0242ac1c0002level0_row10\" class=\"row_heading level0 row10\" >x2ybr</th>\n",
              "                        <td id=\"T_03250b78_356d_11ec_9ab3_0242ac1c0002row10_col0\" class=\"data row10 col0\" >0.04</td>\n",
              "                        <td id=\"T_03250b78_356d_11ec_9ab3_0242ac1c0002row10_col1\" class=\"data row10 col1\" >-0.05</td>\n",
              "                        <td id=\"T_03250b78_356d_11ec_9ab3_0242ac1c0002row10_col2\" class=\"data row10 col2\" >0.01</td>\n",
              "                        <td id=\"T_03250b78_356d_11ec_9ab3_0242ac1c0002row10_col3\" class=\"data row10 col3\" >-0.01</td>\n",
              "                        <td id=\"T_03250b78_356d_11ec_9ab3_0242ac1c0002row10_col4\" class=\"data row10 col4\" >-0.07</td>\n",
              "                        <td id=\"T_03250b78_356d_11ec_9ab3_0242ac1c0002row10_col5\" class=\"data row10 col5\" >-0.34</td>\n",
              "                        <td id=\"T_03250b78_356d_11ec_9ab3_0242ac1c0002row10_col6\" class=\"data row10 col6\" >0.60</td>\n",
              "                        <td id=\"T_03250b78_356d_11ec_9ab3_0242ac1c0002row10_col7\" class=\"data row10 col7\" >0.04</td>\n",
              "                        <td id=\"T_03250b78_356d_11ec_9ab3_0242ac1c0002row10_col8\" class=\"data row10 col8\" >-0.06</td>\n",
              "                        <td id=\"T_03250b78_356d_11ec_9ab3_0242ac1c0002row10_col9\" class=\"data row10 col9\" >0.06</td>\n",
              "                        <td id=\"T_03250b78_356d_11ec_9ab3_0242ac1c0002row10_col10\" class=\"data row10 col10\" >1.00</td>\n",
              "                        <td id=\"T_03250b78_356d_11ec_9ab3_0242ac1c0002row10_col11\" class=\"data row10 col11\" >0.06</td>\n",
              "                        <td id=\"T_03250b78_356d_11ec_9ab3_0242ac1c0002row10_col12\" class=\"data row10 col12\" >0.05</td>\n",
              "                        <td id=\"T_03250b78_356d_11ec_9ab3_0242ac1c0002row10_col13\" class=\"data row10 col13\" >0.53</td>\n",
              "                        <td id=\"T_03250b78_356d_11ec_9ab3_0242ac1c0002row10_col14\" class=\"data row10 col14\" >-0.23</td>\n",
              "                        <td id=\"T_03250b78_356d_11ec_9ab3_0242ac1c0002row10_col15\" class=\"data row10 col15\" >-0.24</td>\n",
              "            </tr>\n",
              "            <tr>\n",
              "                        <th id=\"T_03250b78_356d_11ec_9ab3_0242ac1c0002level0_row11\" class=\"row_heading level0 row11\" >xy2br</th>\n",
              "                        <td id=\"T_03250b78_356d_11ec_9ab3_0242ac1c0002row11_col0\" class=\"data row11 col0\" >-0.05</td>\n",
              "                        <td id=\"T_03250b78_356d_11ec_9ab3_0242ac1c0002row11_col1\" class=\"data row11 col1\" >-0.01</td>\n",
              "                        <td id=\"T_03250b78_356d_11ec_9ab3_0242ac1c0002row11_col2\" class=\"data row11 col2\" >-0.05</td>\n",
              "                        <td id=\"T_03250b78_356d_11ec_9ab3_0242ac1c0002row11_col3\" class=\"data row11 col3\" >0.03</td>\n",
              "                        <td id=\"T_03250b78_356d_11ec_9ab3_0242ac1c0002row11_col4\" class=\"data row11 col4\" >-0.04</td>\n",
              "                        <td id=\"T_03250b78_356d_11ec_9ab3_0242ac1c0002row11_col5\" class=\"data row11 col5\" >-0.03</td>\n",
              "                        <td id=\"T_03250b78_356d_11ec_9ab3_0242ac1c0002row11_col6\" class=\"data row11 col6\" >-0.27</td>\n",
              "                        <td id=\"T_03250b78_356d_11ec_9ab3_0242ac1c0002row11_col7\" class=\"data row11 col7\" >0.08</td>\n",
              "                        <td id=\"T_03250b78_356d_11ec_9ab3_0242ac1c0002row11_col8\" class=\"data row11 col8\" >0.12</td>\n",
              "                        <td id=\"T_03250b78_356d_11ec_9ab3_0242ac1c0002row11_col9\" class=\"data row11 col9\" >-0.11</td>\n",
              "                        <td id=\"T_03250b78_356d_11ec_9ab3_0242ac1c0002row11_col10\" class=\"data row11 col10\" >0.06</td>\n",
              "                        <td id=\"T_03250b78_356d_11ec_9ab3_0242ac1c0002row11_col11\" class=\"data row11 col11\" >1.00</td>\n",
              "                        <td id=\"T_03250b78_356d_11ec_9ab3_0242ac1c0002row11_col12\" class=\"data row11 col12\" >-0.01</td>\n",
              "                        <td id=\"T_03250b78_356d_11ec_9ab3_0242ac1c0002row11_col13\" class=\"data row11 col13\" >-0.18</td>\n",
              "                        <td id=\"T_03250b78_356d_11ec_9ab3_0242ac1c0002row11_col14\" class=\"data row11 col14\" >0.05</td>\n",
              "                        <td id=\"T_03250b78_356d_11ec_9ab3_0242ac1c0002row11_col15\" class=\"data row11 col15\" >0.25</td>\n",
              "            </tr>\n",
              "            <tr>\n",
              "                        <th id=\"T_03250b78_356d_11ec_9ab3_0242ac1c0002level0_row12\" class=\"row_heading level0 row12\" >x-ege</th>\n",
              "                        <td id=\"T_03250b78_356d_11ec_9ab3_0242ac1c0002row12_col0\" class=\"data row12 col0\" >0.49</td>\n",
              "                        <td id=\"T_03250b78_356d_11ec_9ab3_0242ac1c0002row12_col1\" class=\"data row12 col1\" >0.27</td>\n",
              "                        <td id=\"T_03250b78_356d_11ec_9ab3_0242ac1c0002row12_col2\" class=\"data row12 col2\" >0.56</td>\n",
              "                        <td id=\"T_03250b78_356d_11ec_9ab3_0242ac1c0002row12_col3\" class=\"data row12 col3\" >0.27</td>\n",
              "                        <td id=\"T_03250b78_356d_11ec_9ab3_0242ac1c0002row12_col4\" class=\"data row12 col4\" >0.63</td>\n",
              "                        <td id=\"T_03250b78_356d_11ec_9ab3_0242ac1c0002row12_col5\" class=\"data row12 col5\" >0.14</td>\n",
              "                        <td id=\"T_03250b78_356d_11ec_9ab3_0242ac1c0002row12_col6\" class=\"data row12 col6\" >-0.04</td>\n",
              "                        <td id=\"T_03250b78_356d_11ec_9ab3_0242ac1c0002row12_col7\" class=\"data row12 col7\" >0.14</td>\n",
              "                        <td id=\"T_03250b78_356d_11ec_9ab3_0242ac1c0002row12_col8\" class=\"data row12 col8\" >-0.38</td>\n",
              "                        <td id=\"T_03250b78_356d_11ec_9ab3_0242ac1c0002row12_col9\" class=\"data row12 col9\" >-0.18</td>\n",
              "                        <td id=\"T_03250b78_356d_11ec_9ab3_0242ac1c0002row12_col10\" class=\"data row12 col10\" >0.05</td>\n",
              "                        <td id=\"T_03250b78_356d_11ec_9ab3_0242ac1c0002row12_col11\" class=\"data row12 col11\" >-0.01</td>\n",
              "                        <td id=\"T_03250b78_356d_11ec_9ab3_0242ac1c0002row12_col12\" class=\"data row12 col12\" >1.00</td>\n",
              "                        <td id=\"T_03250b78_356d_11ec_9ab3_0242ac1c0002row12_col13\" class=\"data row12 col13\" >0.00</td>\n",
              "                        <td id=\"T_03250b78_356d_11ec_9ab3_0242ac1c0002row12_col14\" class=\"data row12 col14\" >0.11</td>\n",
              "                        <td id=\"T_03250b78_356d_11ec_9ab3_0242ac1c0002row12_col15\" class=\"data row12 col15\" >-0.05</td>\n",
              "            </tr>\n",
              "            <tr>\n",
              "                        <th id=\"T_03250b78_356d_11ec_9ab3_0242ac1c0002level0_row13\" class=\"row_heading level0 row13\" >xegvy</th>\n",
              "                        <td id=\"T_03250b78_356d_11ec_9ab3_0242ac1c0002row13_col0\" class=\"data row13 col0\" >0.10</td>\n",
              "                        <td id=\"T_03250b78_356d_11ec_9ab3_0242ac1c0002row13_col1\" class=\"data row13 col1\" >-0.00</td>\n",
              "                        <td id=\"T_03250b78_356d_11ec_9ab3_0242ac1c0002row13_col2\" class=\"data row13 col2\" >0.05</td>\n",
              "                        <td id=\"T_03250b78_356d_11ec_9ab3_0242ac1c0002row13_col3\" class=\"data row13 col3\" >0.03</td>\n",
              "                        <td id=\"T_03250b78_356d_11ec_9ab3_0242ac1c0002row13_col4\" class=\"data row13 col4\" >0.02</td>\n",
              "                        <td id=\"T_03250b78_356d_11ec_9ab3_0242ac1c0002row13_col5\" class=\"data row13 col5\" >-0.25</td>\n",
              "                        <td id=\"T_03250b78_356d_11ec_9ab3_0242ac1c0002row13_col6\" class=\"data row13 col6\" >0.56</td>\n",
              "                        <td id=\"T_03250b78_356d_11ec_9ab3_0242ac1c0002row13_col7\" class=\"data row13 col7\" >-0.08</td>\n",
              "                        <td id=\"T_03250b78_356d_11ec_9ab3_0242ac1c0002row13_col8\" class=\"data row13 col8\" >-0.05</td>\n",
              "                        <td id=\"T_03250b78_356d_11ec_9ab3_0242ac1c0002row13_col9\" class=\"data row13 col9\" >0.03</td>\n",
              "                        <td id=\"T_03250b78_356d_11ec_9ab3_0242ac1c0002row13_col10\" class=\"data row13 col10\" >0.53</td>\n",
              "                        <td id=\"T_03250b78_356d_11ec_9ab3_0242ac1c0002row13_col11\" class=\"data row13 col11\" >-0.18</td>\n",
              "                        <td id=\"T_03250b78_356d_11ec_9ab3_0242ac1c0002row13_col12\" class=\"data row13 col12\" >0.00</td>\n",
              "                        <td id=\"T_03250b78_356d_11ec_9ab3_0242ac1c0002row13_col13\" class=\"data row13 col13\" >1.00</td>\n",
              "                        <td id=\"T_03250b78_356d_11ec_9ab3_0242ac1c0002row13_col14\" class=\"data row13 col14\" >-0.06</td>\n",
              "                        <td id=\"T_03250b78_356d_11ec_9ab3_0242ac1c0002row13_col15\" class=\"data row13 col15\" >-0.19</td>\n",
              "            </tr>\n",
              "            <tr>\n",
              "                        <th id=\"T_03250b78_356d_11ec_9ab3_0242ac1c0002level0_row14\" class=\"row_heading level0 row14\" >y-ege</th>\n",
              "                        <td id=\"T_03250b78_356d_11ec_9ab3_0242ac1c0002row14_col0\" class=\"data row14 col0\" >0.27</td>\n",
              "                        <td id=\"T_03250b78_356d_11ec_9ab3_0242ac1c0002row14_col1\" class=\"data row14 col1\" >0.23</td>\n",
              "                        <td id=\"T_03250b78_356d_11ec_9ab3_0242ac1c0002row14_col2\" class=\"data row14 col2\" >0.26</td>\n",
              "                        <td id=\"T_03250b78_356d_11ec_9ab3_0242ac1c0002row14_col3\" class=\"data row14 col3\" >0.30</td>\n",
              "                        <td id=\"T_03250b78_356d_11ec_9ab3_0242ac1c0002row14_col4\" class=\"data row14 col4\" >0.49</td>\n",
              "                        <td id=\"T_03250b78_356d_11ec_9ab3_0242ac1c0002row14_col5\" class=\"data row14 col5\" >0.13</td>\n",
              "                        <td id=\"T_03250b78_356d_11ec_9ab3_0242ac1c0002row14_col6\" class=\"data row14 col6\" >-0.08</td>\n",
              "                        <td id=\"T_03250b78_356d_11ec_9ab3_0242ac1c0002row14_col7\" class=\"data row14 col7\" >0.01</td>\n",
              "                        <td id=\"T_03250b78_356d_11ec_9ab3_0242ac1c0002row14_col8\" class=\"data row14 col8\" >0.28</td>\n",
              "                        <td id=\"T_03250b78_356d_11ec_9ab3_0242ac1c0002row14_col9\" class=\"data row14 col9\" >-0.09</td>\n",
              "                        <td id=\"T_03250b78_356d_11ec_9ab3_0242ac1c0002row14_col10\" class=\"data row14 col10\" >-0.23</td>\n",
              "                        <td id=\"T_03250b78_356d_11ec_9ab3_0242ac1c0002row14_col11\" class=\"data row14 col11\" >0.05</td>\n",
              "                        <td id=\"T_03250b78_356d_11ec_9ab3_0242ac1c0002row14_col12\" class=\"data row14 col12\" >0.11</td>\n",
              "                        <td id=\"T_03250b78_356d_11ec_9ab3_0242ac1c0002row14_col13\" class=\"data row14 col13\" >-0.06</td>\n",
              "                        <td id=\"T_03250b78_356d_11ec_9ab3_0242ac1c0002row14_col14\" class=\"data row14 col14\" >1.00</td>\n",
              "                        <td id=\"T_03250b78_356d_11ec_9ab3_0242ac1c0002row14_col15\" class=\"data row14 col15\" >0.14</td>\n",
              "            </tr>\n",
              "            <tr>\n",
              "                        <th id=\"T_03250b78_356d_11ec_9ab3_0242ac1c0002level0_row15\" class=\"row_heading level0 row15\" >yegvx</th>\n",
              "                        <td id=\"T_03250b78_356d_11ec_9ab3_0242ac1c0002row15_col0\" class=\"data row15 col0\" >-0.11</td>\n",
              "                        <td id=\"T_03250b78_356d_11ec_9ab3_0242ac1c0002row15_col1\" class=\"data row15 col1\" >-0.04</td>\n",
              "                        <td id=\"T_03250b78_356d_11ec_9ab3_0242ac1c0002row15_col2\" class=\"data row15 col2\" >-0.12</td>\n",
              "                        <td id=\"T_03250b78_356d_11ec_9ab3_0242ac1c0002row15_col3\" class=\"data row15 col3\" >-0.02</td>\n",
              "                        <td id=\"T_03250b78_356d_11ec_9ab3_0242ac1c0002row15_col4\" class=\"data row15 col4\" >-0.06</td>\n",
              "                        <td id=\"T_03250b78_356d_11ec_9ab3_0242ac1c0002row15_col5\" class=\"data row15 col5\" >0.25</td>\n",
              "                        <td id=\"T_03250b78_356d_11ec_9ab3_0242ac1c0002row15_col6\" class=\"data row15 col6\" >-0.21</td>\n",
              "                        <td id=\"T_03250b78_356d_11ec_9ab3_0242ac1c0002row15_col7\" class=\"data row15 col7\" >0.18</td>\n",
              "                        <td id=\"T_03250b78_356d_11ec_9ab3_0242ac1c0002row15_col8\" class=\"data row15 col8\" >-0.06</td>\n",
              "                        <td id=\"T_03250b78_356d_11ec_9ab3_0242ac1c0002row15_col9\" class=\"data row15 col9\" >-0.11</td>\n",
              "                        <td id=\"T_03250b78_356d_11ec_9ab3_0242ac1c0002row15_col10\" class=\"data row15 col10\" >-0.24</td>\n",
              "                        <td id=\"T_03250b78_356d_11ec_9ab3_0242ac1c0002row15_col11\" class=\"data row15 col11\" >0.25</td>\n",
              "                        <td id=\"T_03250b78_356d_11ec_9ab3_0242ac1c0002row15_col12\" class=\"data row15 col12\" >-0.05</td>\n",
              "                        <td id=\"T_03250b78_356d_11ec_9ab3_0242ac1c0002row15_col13\" class=\"data row15 col13\" >-0.19</td>\n",
              "                        <td id=\"T_03250b78_356d_11ec_9ab3_0242ac1c0002row15_col14\" class=\"data row15 col14\" >0.14</td>\n",
              "                        <td id=\"T_03250b78_356d_11ec_9ab3_0242ac1c0002row15_col15\" class=\"data row15 col15\" >1.00</td>\n",
              "            </tr>\n",
              "    </tbody></table>"
            ],
            "text/plain": [
              "<pandas.io.formats.style.Styler at 0x7fa553454310>"
            ]
          },
          "execution_count": 9,
          "metadata": {},
          "output_type": "execute_result"
        }
      ],
      "source": [
        "corr = dataset.corr()\n",
        "corr.style.background_gradient(cmap=\"Spectral\", axis=None).set_precision(2)"
      ]
    },
    {
      "cell_type": "markdown",
      "metadata": {
        "id": "UpR2dCiHrnCt"
      },
      "source": [
        "## Split data into training and testing"
      ]
    },
    {
      "cell_type": "code",
      "execution_count": null,
      "metadata": {
        "id": "L-sgX7fCrjLJ"
      },
      "outputs": [],
      "source": [
        "X = dataset.iloc[:, 1:].values\n",
        "y = dataset.iloc[:, 0].values"
      ]
    },
    {
      "cell_type": "code",
      "execution_count": null,
      "metadata": {
        "colab": {
          "base_uri": "https://localhost:8080/"
        },
        "id": "pIRlLts8rsz3",
        "outputId": "fd4bdaa1-5b2b-483a-fd76-d71769ea20e3"
      },
      "outputs": [
        {
          "name": "stdout",
          "output_type": "stream",
          "text": [
            "Training data shape [(X), (Y)]:  (16000, 16) (16000,)\n",
            "Testing data shape [(X), (Y)]:  (4000, 16) (4000,)\n"
          ]
        }
      ],
      "source": [
        "from sklearn.model_selection import train_test_split\n",
        "X_train, X_test, y_train, y_test = train_test_split(X, y, test_size = 0.20)\n",
        "print(\"Training data shape [(X), (Y)]: \",  X_train.shape, y_train.shape)\n",
        "print(\"Testing data shape [(X), (Y)]: \",  X_test.shape, y_test.shape)\n"
      ]
    },
    {
      "cell_type": "markdown",
      "metadata": {
        "id": "aKJwhWccsGCw"
      },
      "source": [
        "## Train the model"
      ]
    },
    {
      "cell_type": "code",
      "execution_count": null,
      "metadata": {
        "colab": {
          "base_uri": "https://localhost:8080/"
        },
        "id": "0bieBgAcsIIT",
        "outputId": "80a1c1c2-cd1e-4d43-a37d-d80cd0ef7953"
      },
      "outputs": [
        {
          "data": {
            "text/plain": [
              "RandomForestClassifier(bootstrap=True, ccp_alpha=0.0, class_weight=None,\n",
              "                       criterion='gini', max_depth=None, max_features='auto',\n",
              "                       max_leaf_nodes=None, max_samples=None,\n",
              "                       min_impurity_decrease=0.0, min_impurity_split=None,\n",
              "                       min_samples_leaf=1, min_samples_split=2,\n",
              "                       min_weight_fraction_leaf=0.0, n_estimators=50,\n",
              "                       n_jobs=None, oob_score=False, random_state=None,\n",
              "                       verbose=0, warm_start=False)"
            ]
          },
          "execution_count": 12,
          "metadata": {},
          "output_type": "execute_result"
        }
      ],
      "source": [
        "from sklearn.ensemble import RandomForestClassifier\n",
        "classifier = RandomForestClassifier(n_estimators = 50)\n",
        "classifier.fit(X_train, y_train)\n"
      ]
    },
    {
      "cell_type": "markdown",
      "metadata": {
        "id": "PagGmJnwsM03"
      },
      "source": [
        "## Make the prediction "
      ]
    },
    {
      "cell_type": "code",
      "execution_count": null,
      "metadata": {
        "colab": {
          "base_uri": "https://localhost:8080/"
        },
        "id": "_3fJNxMWsPBB",
        "outputId": "1c234e8a-5c28-440c-a7ef-2214827ad7fe"
      },
      "outputs": [
        {
          "name": "stdout",
          "output_type": "stream",
          "text": [
            "Random Forest Classification\n",
            "Training Score:  1.0\n",
            "Testing Score:  0.95875\n"
          ]
        }
      ],
      "source": [
        "y_pred = classifier.predict(X_test)\n",
        "train_score = classifier.score(X_train, y_train)\n",
        "test_score = classifier.score(X_test, y_test)\n",
        "print(\"Random Forest Classification\")\n",
        "print(\"Training Score: \", train_score)\n",
        "print(\"Testing Score: \", test_score)"
      ]
    },
    {
      "cell_type": "markdown",
      "metadata": {
        "id": "naGcGIeysSOu"
      },
      "source": [
        "## Print the results"
      ]
    },
    {
      "cell_type": "code",
      "execution_count": null,
      "metadata": {
        "colab": {
          "base_uri": "https://localhost:8080/"
        },
        "id": "BQz7wh2WsUFu",
        "outputId": "d54dc3fa-fbf1-47c9-98c9-b9cb61e3c386"
      },
      "outputs": [
        {
          "name": "stdout",
          "output_type": "stream",
          "text": [
            "Classification Report:\n",
            "              precision    recall  f1-score   support\n",
            "\n",
            "           A       0.99      0.99      0.99       161\n",
            "           B       0.91      0.94      0.92       156\n",
            "           C       0.98      0.96      0.97       148\n",
            "           D       0.93      0.95      0.94       161\n",
            "           E       0.93      0.96      0.94       158\n",
            "           F       0.96      0.93      0.94       171\n",
            "           G       0.94      0.98      0.96       146\n",
            "           H       0.94      0.87      0.90       153\n",
            "           I       0.97      0.94      0.96       147\n",
            "           J       0.94      0.96      0.95       139\n",
            "           K       0.93      0.97      0.95       141\n",
            "           L       0.98      0.98      0.98       145\n",
            "           M       0.95      0.97      0.96       163\n",
            "           N       0.99      0.96      0.98       144\n",
            "           O       0.96      0.96      0.96       159\n",
            "           P       0.95      0.94      0.95       157\n",
            "           Q       0.96      0.97      0.96       152\n",
            "           R       0.92      0.95      0.93       154\n",
            "           S       0.96      0.94      0.95       139\n",
            "           T       0.97      0.96      0.97       162\n",
            "           U       0.98      0.98      0.98       188\n",
            "           V       0.96      0.95      0.96       158\n",
            "           W       0.96      0.98      0.97       126\n",
            "           X       0.99      0.98      0.98       158\n",
            "           Y       0.98      0.97      0.98       166\n",
            "           Z       1.00      0.99      0.99       148\n",
            "\n",
            "    accuracy                           0.96      4000\n",
            "   macro avg       0.96      0.96      0.96      4000\n",
            "weighted avg       0.96      0.96      0.96      4000\n",
            "\n",
            "Accuracy: 0.95875\n"
          ]
        }
      ],
      "source": [
        "from sklearn.metrics import classification_report, confusion_matrix, accuracy_score\n",
        "\n",
        "result1 = classification_report(y_test, y_pred)\n",
        "print(\"Classification Report:\",)\n",
        "print (result1)\n",
        "result2 = accuracy_score(y_test,y_pred)\n",
        "print(\"Accuracy:\",result2)"
      ]
    },
    {
      "cell_type": "markdown",
      "metadata": {
        "id": "pVzJAfL4w4TV"
      },
      "source": [
        "## Display confusion matrix"
      ]
    },
    {
      "cell_type": "code",
      "execution_count": null,
      "metadata": {
        "id": "fWCwgGlCh7uE"
      },
      "outputs": [],
      "source": [
        "alphabet_string = string.ascii_uppercase\n",
        "class_names = list(alphabet_string)"
      ]
    },
    {
      "cell_type": "markdown",
      "metadata": {
        "id": "GV1DGqqvBFb-"
      },
      "source": [
        "### With and without normalization"
      ]
    },
    {
      "cell_type": "code",
      "execution_count": null,
      "metadata": {
        "colab": {
          "base_uri": "https://localhost:8080/",
          "height": 1000
        },
        "id": "HNSdlpnLw6Za",
        "outputId": "7cfeae67-8e53-416f-a3ff-422f8f55ab3f"
      },
      "outputs": [
        {
          "name": "stdout",
          "output_type": "stream",
          "text": [
            "Normalized confusion matrix\n",
            "[[0.99378882 0.         0.00621118 0.         0.         0.\n",
            "  0.         0.         0.         0.         0.         0.\n",
            "  0.         0.         0.         0.         0.         0.\n",
            "  0.         0.         0.         0.         0.         0.\n",
            "  0.         0.        ]\n",
            " [0.         0.94230769 0.         0.         0.00641026 0.\n",
            "  0.01282051 0.00641026 0.         0.         0.         0.\n",
            "  0.         0.00641026 0.         0.         0.         0.00641026\n",
            "  0.         0.         0.00641026 0.01282051 0.         0.\n",
            "  0.         0.        ]\n",
            " [0.         0.         0.95945946 0.         0.00675676 0.\n",
            "  0.01351351 0.         0.         0.         0.         0.\n",
            "  0.         0.         0.01351351 0.         0.00675676 0.\n",
            "  0.         0.         0.         0.         0.         0.\n",
            "  0.         0.        ]\n",
            " [0.         0.         0.         0.95031056 0.         0.\n",
            "  0.         0.02484472 0.         0.         0.         0.\n",
            "  0.         0.         0.00621118 0.         0.         0.\n",
            "  0.00621118 0.         0.00621118 0.         0.         0.00621118\n",
            "  0.         0.        ]\n",
            " [0.         0.00632911 0.         0.         0.9556962  0.\n",
            "  0.01265823 0.         0.         0.         0.00632911 0.01265823\n",
            "  0.         0.         0.         0.         0.00632911 0.\n",
            "  0.         0.         0.         0.         0.         0.\n",
            "  0.         0.        ]\n",
            " [0.         0.01754386 0.         0.         0.00584795 0.92982456\n",
            "  0.         0.         0.         0.         0.         0.\n",
            "  0.00584795 0.         0.         0.02923977 0.         0.\n",
            "  0.         0.00584795 0.         0.         0.         0.\n",
            "  0.00584795 0.        ]\n",
            " [0.         0.         0.         0.         0.01369863 0.\n",
            "  0.97945205 0.         0.         0.         0.         0.\n",
            "  0.00684932 0.         0.         0.         0.         0.\n",
            "  0.         0.         0.         0.         0.         0.\n",
            "  0.         0.        ]\n",
            " [0.         0.         0.         0.03267974 0.         0.\n",
            "  0.00653595 0.86928105 0.         0.         0.03267974 0.\n",
            "  0.00653595 0.         0.0130719  0.00653595 0.         0.02614379\n",
            "  0.         0.         0.         0.00653595 0.         0.\n",
            "  0.         0.        ]\n",
            " [0.         0.00680272 0.         0.         0.         0.\n",
            "  0.         0.         0.93877551 0.04761905 0.         0.\n",
            "  0.         0.         0.         0.         0.         0.\n",
            "  0.00680272 0.         0.         0.         0.         0.\n",
            "  0.         0.        ]\n",
            " [0.         0.         0.         0.         0.         0.\n",
            "  0.         0.         0.02877698 0.96402878 0.         0.\n",
            "  0.         0.         0.         0.         0.         0.\n",
            "  0.00719424 0.         0.         0.         0.         0.\n",
            "  0.         0.        ]\n",
            " [0.         0.         0.         0.         0.0070922  0.\n",
            "  0.         0.         0.         0.         0.97163121 0.\n",
            "  0.         0.         0.         0.         0.         0.0141844\n",
            "  0.         0.         0.         0.         0.         0.0070922\n",
            "  0.         0.        ]\n",
            " [0.         0.         0.         0.         0.         0.\n",
            "  0.         0.         0.         0.         0.         0.97931034\n",
            "  0.         0.         0.         0.         0.00689655 0.00689655\n",
            "  0.00689655 0.         0.         0.         0.         0.\n",
            "  0.         0.        ]\n",
            " [0.00613497 0.00613497 0.         0.         0.00613497 0.\n",
            "  0.         0.         0.         0.         0.         0.\n",
            "  0.96932515 0.         0.         0.         0.         0.\n",
            "  0.         0.         0.         0.         0.01226994 0.\n",
            "  0.         0.        ]\n",
            " [0.         0.         0.         0.02083333 0.         0.\n",
            "  0.         0.         0.         0.         0.         0.\n",
            "  0.00694444 0.95833333 0.00694444 0.         0.         0.00694444\n",
            "  0.         0.         0.         0.         0.         0.\n",
            "  0.         0.        ]\n",
            " [0.         0.         0.00628931 0.01257862 0.         0.\n",
            "  0.00628931 0.         0.         0.         0.         0.\n",
            "  0.         0.         0.96226415 0.00628931 0.00628931 0.\n",
            "  0.         0.         0.         0.         0.         0.\n",
            "  0.         0.        ]\n",
            " [0.         0.         0.         0.         0.00636943 0.03821656\n",
            "  0.         0.         0.         0.         0.         0.\n",
            "  0.         0.         0.         0.94267516 0.00636943 0.\n",
            "  0.         0.         0.         0.         0.         0.\n",
            "  0.00636943 0.        ]\n",
            " [0.00657895 0.         0.         0.         0.         0.\n",
            "  0.         0.00657895 0.         0.         0.         0.\n",
            "  0.         0.         0.00657895 0.         0.96710526 0.01315789\n",
            "  0.         0.         0.         0.         0.         0.\n",
            "  0.         0.        ]\n",
            " [0.         0.01948052 0.         0.00649351 0.         0.\n",
            "  0.         0.         0.         0.         0.01948052 0.\n",
            "  0.00649351 0.         0.         0.         0.         0.94805195\n",
            "  0.         0.         0.         0.         0.         0.\n",
            "  0.         0.        ]\n",
            " [0.         0.02158273 0.00719424 0.         0.00719424 0.\n",
            "  0.         0.00719424 0.         0.         0.         0.00719424\n",
            "  0.         0.         0.         0.         0.00719424 0.00719424\n",
            "  0.9352518  0.         0.         0.         0.         0.\n",
            "  0.         0.        ]\n",
            " [0.         0.00617284 0.         0.         0.         0.00617284\n",
            "  0.         0.         0.         0.00617284 0.00617284 0.\n",
            "  0.         0.         0.         0.         0.         0.\n",
            "  0.01234568 0.96296296 0.         0.         0.         0.\n",
            "  0.         0.        ]\n",
            " [0.         0.         0.         0.         0.         0.\n",
            "  0.         0.00531915 0.         0.         0.         0.\n",
            "  0.01595745 0.         0.         0.         0.         0.\n",
            "  0.         0.         0.9787234  0.         0.         0.\n",
            "  0.         0.        ]\n",
            " [0.         0.01265823 0.         0.         0.         0.\n",
            "  0.00632911 0.         0.         0.         0.         0.\n",
            "  0.00632911 0.         0.         0.         0.         0.\n",
            "  0.         0.         0.         0.94936709 0.01898734 0.\n",
            "  0.00632911 0.        ]\n",
            " [0.         0.         0.         0.         0.         0.\n",
            "  0.         0.         0.         0.         0.         0.\n",
            "  0.         0.         0.         0.         0.         0.\n",
            "  0.         0.         0.00793651 0.00793651 0.98412698 0.\n",
            "  0.         0.        ]\n",
            " [0.         0.         0.         0.         0.01265823 0.\n",
            "  0.         0.         0.         0.         0.         0.\n",
            "  0.         0.         0.         0.         0.         0.00632911\n",
            "  0.         0.         0.         0.         0.         0.98101266\n",
            "  0.         0.        ]\n",
            " [0.         0.         0.         0.         0.         0.\n",
            "  0.         0.         0.         0.         0.         0.\n",
            "  0.         0.         0.         0.         0.         0.\n",
            "  0.         0.01204819 0.0060241  0.01204819 0.         0.\n",
            "  0.96987952 0.        ]\n",
            " [0.         0.         0.         0.         0.         0.\n",
            "  0.         0.         0.         0.00675676 0.         0.\n",
            "  0.         0.         0.         0.         0.         0.\n",
            "  0.         0.00675676 0.         0.         0.         0.\n",
            "  0.         0.98648649]]\n"
          ]
        },
        {
          "data": {
            "image/png": "[encoded data removed]",
            "text/plain": [
              "<Figure size 1440x1440 with 2 Axes>"
            ]
          },
          "metadata": {
            "needs_background": "light"
          },
          "output_type": "display_data"
        }
      ],
      "source": [
        "# Plot non-normalized confusion matrix\n",
        "\n",
        "fig, ax = plt.subplots(figsize=(20, 20))\n",
        "ax.set(\n",
        "    ylabel='True label',\n",
        "    xlabel='Predicted label'\n",
        ")\n",
        "\n",
        "titles_options = [(\"Normalized confusion matrix\", 'true')]\n",
        "for title, normalize in titles_options:\n",
        "    disp = plot_confusion_matrix(classifier, X_test, y_test,\n",
        "                                 display_labels=class_names,\n",
        "                                 cmap=plt.cm.terrain_r,\n",
        "                                 normalize=normalize,\n",
        "                                 ax=ax)\n",
        "    disp.ax_.set_title(title)\n",
        "\n",
        "    print(title)\n",
        "    print(disp.confusion_matrix)\n",
        "\n",
        "plt.show()"
      ]
    },
    {
      "cell_type": "markdown",
      "metadata": {
        "id": "sMD09tq1BLlt"
      },
      "source": [
        "### Without normalization"
      ]
    },
    {
      "cell_type": "code",
      "execution_count": null,
      "metadata": {
        "colab": {
          "base_uri": "https://localhost:8080/",
          "height": 1000
        },
        "id": "g6otf3yjw8tO",
        "outputId": "1bf8d0d0-37f4-476f-b64d-16f9edc90d6a"
      },
      "outputs": [
        {
          "name": "stdout",
          "output_type": "stream",
          "text": [
            "Confusion matrix, without normalization\n",
            "[[160   0   1   0   0   0   0   0   0   0   0   0   0   0   0   0   0   0\n",
            "    0   0   0   0   0   0   0   0]\n",
            " [  0 147   0   0   1   0   2   1   0   0   0   0   0   1   0   0   0   1\n",
            "    0   0   1   2   0   0   0   0]\n",
            " [  0   0 142   0   1   0   2   0   0   0   0   0   0   0   2   0   1   0\n",
            "    0   0   0   0   0   0   0   0]\n",
            " [  0   0   0 153   0   0   0   4   0   0   0   0   0   0   1   0   0   0\n",
            "    1   0   1   0   0   1   0   0]\n",
            " [  0   1   0   0 151   0   2   0   0   0   1   2   0   0   0   0   1   0\n",
            "    0   0   0   0   0   0   0   0]\n",
            " [  0   3   0   0   1 159   0   0   0   0   0   0   1   0   0   5   0   0\n",
            "    0   1   0   0   0   0   1   0]\n",
            " [  0   0   0   0   2   0 143   0   0   0   0   0   1   0   0   0   0   0\n",
            "    0   0   0   0   0   0   0   0]\n",
            " [  0   0   0   5   0   0   1 133   0   0   5   0   1   0   2   1   0   4\n",
            "    0   0   0   1   0   0   0   0]\n",
            " [  0   1   0   0   0   0   0   0 138   7   0   0   0   0   0   0   0   0\n",
            "    1   0   0   0   0   0   0   0]\n",
            " [  0   0   0   0   0   0   0   0   4 134   0   0   0   0   0   0   0   0\n",
            "    1   0   0   0   0   0   0   0]\n",
            " [  0   0   0   0   1   0   0   0   0   0 137   0   0   0   0   0   0   2\n",
            "    0   0   0   0   0   1   0   0]\n",
            " [  0   0   0   0   0   0   0   0   0   0   0 142   0   0   0   0   1   1\n",
            "    1   0   0   0   0   0   0   0]\n",
            " [  1   1   0   0   1   0   0   0   0   0   0   0 158   0   0   0   0   0\n",
            "    0   0   0   0   2   0   0   0]\n",
            " [  0   0   0   3   0   0   0   0   0   0   0   0   1 138   1   0   0   1\n",
            "    0   0   0   0   0   0   0   0]\n",
            " [  0   0   1   2   0   0   1   0   0   0   0   0   0   0 153   1   1   0\n",
            "    0   0   0   0   0   0   0   0]\n",
            " [  0   0   0   0   1   6   0   0   0   0   0   0   0   0   0 148   1   0\n",
            "    0   0   0   0   0   0   1   0]\n",
            " [  1   0   0   0   0   0   0   1   0   0   0   0   0   0   1   0 147   2\n",
            "    0   0   0   0   0   0   0   0]\n",
            " [  0   3   0   1   0   0   0   0   0   0   3   0   1   0   0   0   0 146\n",
            "    0   0   0   0   0   0   0   0]\n",
            " [  0   3   1   0   1   0   0   1   0   0   0   1   0   0   0   0   1   1\n",
            "  130   0   0   0   0   0   0   0]\n",
            " [  0   1   0   0   0   1   0   0   0   1   1   0   0   0   0   0   0   0\n",
            "    2 156   0   0   0   0   0   0]\n",
            " [  0   0   0   0   0   0   0   1   0   0   0   0   3   0   0   0   0   0\n",
            "    0   0 184   0   0   0   0   0]\n",
            " [  0   2   0   0   0   0   1   0   0   0   0   0   1   0   0   0   0   0\n",
            "    0   0   0 150   3   0   1   0]\n",
            " [  0   0   0   0   0   0   0   0   0   0   0   0   0   0   0   0   0   0\n",
            "    0   0   1   1 124   0   0   0]\n",
            " [  0   0   0   0   2   0   0   0   0   0   0   0   0   0   0   0   0   1\n",
            "    0   0   0   0   0 155   0   0]\n",
            " [  0   0   0   0   0   0   0   0   0   0   0   0   0   0   0   0   0   0\n",
            "    0   2   1   2   0   0 161   0]\n",
            " [  0   0   0   0   0   0   0   0   0   1   0   0   0   0   0   0   0   0\n",
            "    0   1   0   0   0   0   0 146]]\n"
          ]
        },
        {
          "data": {
            "image/png": "[encoded data removed]",
            "text/plain": [
              "<Figure size 1440x1440 with 2 Axes>"
            ]
          },
          "metadata": {
            "needs_background": "light"
          },
          "output_type": "display_data"
        },
        {
          "data": {
            "text/plain": [
              "(None,)"
            ]
          },
          "execution_count": 17,
          "metadata": {},
          "output_type": "execute_result"
        }
      ],
      "source": [
        "# Plot non-normalized confusion matrix\n",
        "\n",
        "fig, ax = plt.subplots(figsize=(20, 20))\n",
        "ax.set(\n",
        "    ylabel='True label',\n",
        "    xlabel='Predicted label'\n",
        ")\n",
        "\n",
        "titles_options = [(\"Confusion matrix, without normalization\", None)]\n",
        "for title, normalize in titles_options:\n",
        "    disp = plot_confusion_matrix(classifier, X_test, y_test,\n",
        "                                 display_labels=class_names,\n",
        "                                 cmap=plt.cm.terrain_r,\n",
        "                                 ax=ax,\n",
        "                                 values_format = '.5g')\n",
        "    disp.ax_.set_title(title)\n",
        "\n",
        "    print(title)\n",
        "    print(disp.confusion_matrix)\n",
        "\n",
        "plt.show(), "
      ]
    }
  ],
  "metadata": {
    "colab": {
      "collapsed_sections": [],
      "name": "SCS3201 Random Forest Classification: Letter Recognition.ipynb",
      "provenance": []
    },
    "kernelspec": {
      "display_name": "Python 3",
      "name": "python3"
    },
    "language_info": {
      "name": "python"
    }
  },
  "nbformat": 4,
  "nbformat_minor": 0
}
