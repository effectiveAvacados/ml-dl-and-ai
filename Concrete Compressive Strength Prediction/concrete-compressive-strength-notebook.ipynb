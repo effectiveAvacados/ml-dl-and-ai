{
  "cells": [
    {
      "cell_type": "markdown",
      "metadata": {
        "id": "3PtyLR_amC2h"
      },
      "source": [
        "# Predicting Concrete Compressive Strength "
      ]
    },
    {
      "cell_type": "markdown",
      "metadata": {
        "id": "7-qAV0zRp5fD"
      },
      "source": [
        "## Importing libraries"
      ]
    },
    {
      "cell_type": "code",
      "execution_count": null,
      "metadata": {
        "id": "aRls8Mvc2vkt"
      },
      "outputs": [],
      "source": [
        "import pandas as pd\n",
        "import numpy as np\n",
        "import matplotlib.pyplot as plt\n",
        "from mpl_toolkits.mplot3d import Axes3D\n"
      ]
    },
    {
      "cell_type": "markdown",
      "metadata": {
        "id": "mCDlt-lvqfzZ"
      },
      "source": [
        "## Reading Dataset\n",
        "\n",
        "Source : https://archive.ics.uci.edu/ml/datasets/Concrete+Compressive+Strength\n",
        "  \n",
        "Input variables :\n",
        "* Cement \n",
        "\n",
        "*   Blast Furnace Slag \n",
        "*   Fly Ash\n",
        "*   Water\n",
        "*   Superplasticizer\n",
        "*   Coarse Aggregate \n",
        "*   Fine Aggregate \n",
        "*   Age \n",
        "\n",
        "Output variable : \n",
        "*   Concrete compressive strength \n",
        "\n",
        "\n",
        "---\n",
        "\n"
      ]
    },
    {
      "cell_type": "code",
      "execution_count": null,
      "metadata": {
        "colab": {
          "base_uri": "https://localhost:8080/",
          "height": 204
        },
        "id": "oHwh1Pj9qA4x",
        "outputId": "34756726-7ec7-4d57-d81e-5ee72c4ec882"
      },
      "outputs": [
        {
          "data": {
            "text/html": [
              "<div>\n",
              "<style scoped>\n",
              "    .dataframe tbody tr th:only-of-type {\n",
              "        vertical-align: middle;\n",
              "    }\n",
              "\n",
              "    .dataframe tbody tr th {\n",
              "        vertical-align: top;\n",
              "    }\n",
              "\n",
              "    .dataframe thead th {\n",
              "        text-align: right;\n",
              "    }\n",
              "</style>\n",
              "<table border=\"1\" class=\"dataframe\">\n",
              "  <thead>\n",
              "    <tr style=\"text-align: right;\">\n",
              "      <th></th>\n",
              "      <th>0</th>\n",
              "      <th>1</th>\n",
              "      <th>2</th>\n",
              "      <th>3</th>\n",
              "      <th>4</th>\n",
              "      <th>5</th>\n",
              "      <th>6</th>\n",
              "      <th>7</th>\n",
              "      <th>8</th>\n",
              "    </tr>\n",
              "  </thead>\n",
              "  <tbody>\n",
              "    <tr>\n",
              "      <th>0</th>\n",
              "      <td>540.0</td>\n",
              "      <td>0.0</td>\n",
              "      <td>0.0</td>\n",
              "      <td>162.0</td>\n",
              "      <td>2.5</td>\n",
              "      <td>1040.0</td>\n",
              "      <td>676.0</td>\n",
              "      <td>28</td>\n",
              "      <td>79.986111</td>\n",
              "    </tr>\n",
              "    <tr>\n",
              "      <th>1</th>\n",
              "      <td>540.0</td>\n",
              "      <td>0.0</td>\n",
              "      <td>0.0</td>\n",
              "      <td>162.0</td>\n",
              "      <td>2.5</td>\n",
              "      <td>1055.0</td>\n",
              "      <td>676.0</td>\n",
              "      <td>28</td>\n",
              "      <td>61.887366</td>\n",
              "    </tr>\n",
              "    <tr>\n",
              "      <th>2</th>\n",
              "      <td>332.5</td>\n",
              "      <td>142.5</td>\n",
              "      <td>0.0</td>\n",
              "      <td>228.0</td>\n",
              "      <td>0.0</td>\n",
              "      <td>932.0</td>\n",
              "      <td>594.0</td>\n",
              "      <td>270</td>\n",
              "      <td>40.269535</td>\n",
              "    </tr>\n",
              "    <tr>\n",
              "      <th>3</th>\n",
              "      <td>332.5</td>\n",
              "      <td>142.5</td>\n",
              "      <td>0.0</td>\n",
              "      <td>228.0</td>\n",
              "      <td>0.0</td>\n",
              "      <td>932.0</td>\n",
              "      <td>594.0</td>\n",
              "      <td>365</td>\n",
              "      <td>41.052780</td>\n",
              "    </tr>\n",
              "    <tr>\n",
              "      <th>4</th>\n",
              "      <td>198.6</td>\n",
              "      <td>132.4</td>\n",
              "      <td>0.0</td>\n",
              "      <td>192.0</td>\n",
              "      <td>0.0</td>\n",
              "      <td>978.4</td>\n",
              "      <td>825.5</td>\n",
              "      <td>360</td>\n",
              "      <td>44.296075</td>\n",
              "    </tr>\n",
              "  </tbody>\n",
              "</table>\n",
              "</div>"
            ],
            "text/plain": [
              "       0      1    2      3    4       5      6    7          8\n",
              "0  540.0    0.0  0.0  162.0  2.5  1040.0  676.0   28  79.986111\n",
              "1  540.0    0.0  0.0  162.0  2.5  1055.0  676.0   28  61.887366\n",
              "2  332.5  142.5  0.0  228.0  0.0   932.0  594.0  270  40.269535\n",
              "3  332.5  142.5  0.0  228.0  0.0   932.0  594.0  365  41.052780\n",
              "4  198.6  132.4  0.0  192.0  0.0   978.4  825.5  360  44.296075"
            ]
          },
          "execution_count": 4,
          "metadata": {
            "tags": []
          },
          "output_type": "execute_result"
        }
      ],
      "source": [
        "df = pd.read_excel('https://archive.ics.uci.edu/ml/machine-learning-databases/concrete/compressive/Concrete_Data.xls',header=None,skiprows=1)\n",
        "df.head()"
      ]
    },
    {
      "cell_type": "code",
      "execution_count": null,
      "metadata": {
        "colab": {
          "base_uri": "https://localhost:8080/"
        },
        "id": "jUq_l8LW49Ae",
        "outputId": "780d1dbc-b561-4d70-afbb-632621d88986"
      },
      "outputs": [
        {
          "data": {
            "text/plain": [
              "(1030, 9)"
            ]
          },
          "execution_count": 5,
          "metadata": {
            "tags": []
          },
          "output_type": "execute_result"
        }
      ],
      "source": [
        "df.shape\n"
      ]
    },
    {
      "cell_type": "code",
      "execution_count": null,
      "metadata": {
        "colab": {
          "base_uri": "https://localhost:8080/"
        },
        "id": "yiAeXW4Mw95a",
        "outputId": "a479b442-bf97-4e68-ddc8-d905da347d34"
      },
      "outputs": [
        {
          "name": "stdout",
          "output_type": "stream",
          "text": [
            "1030\n"
          ]
        }
      ],
      "source": [
        "#m is the number of training data\n",
        "m = len(df)\n",
        "print(m)"
      ]
    },
    {
      "cell_type": "markdown",
      "metadata": {
        "id": "cgYa0dbdshQC"
      },
      "source": [
        "## Detecting missing values in the array"
      ]
    },
    {
      "cell_type": "code",
      "execution_count": null,
      "metadata": {
        "colab": {
          "base_uri": "https://localhost:8080/"
        },
        "id": "BA_GWD6Pp3oa",
        "outputId": "375be0d1-3431-4b42-b7ba-85a364078785"
      },
      "outputs": [
        {
          "data": {
            "text/plain": [
              "0    False\n",
              "1    False\n",
              "2    False\n",
              "3    False\n",
              "4    False\n",
              "5    False\n",
              "6    False\n",
              "7    False\n",
              "8    False\n",
              "dtype: bool"
            ]
          },
          "execution_count": 7,
          "metadata": {
            "tags": []
          },
          "output_type": "execute_result"
        }
      ],
      "source": [
        "pd.isna(df).any()\n"
      ]
    },
    {
      "cell_type": "markdown",
      "metadata": {
        "id": "5Ee2ohsbs-2Z"
      },
      "source": [
        "No NaN/None values."
      ]
    },
    {
      "cell_type": "markdown",
      "metadata": {
        "id": "qlUu0QZptf07"
      },
      "source": [
        "## Concatenating a biasing constant of value 1 to the features array"
      ]
    },
    {
      "cell_type": "code",
      "execution_count": null,
      "metadata": {
        "colab": {
          "base_uri": "https://localhost:8080/",
          "height": 204
        },
        "id": "8g7cSnCvmb8b",
        "outputId": "84fe47d3-f0b5-47c0-a9dd-5ba526b14d0c"
      },
      "outputs": [
        {
          "data": {
            "text/html": [
              "<div>\n",
              "<style scoped>\n",
              "    .dataframe tbody tr th:only-of-type {\n",
              "        vertical-align: middle;\n",
              "    }\n",
              "\n",
              "    .dataframe tbody tr th {\n",
              "        vertical-align: top;\n",
              "    }\n",
              "\n",
              "    .dataframe thead th {\n",
              "        text-align: right;\n",
              "    }\n",
              "</style>\n",
              "<table border=\"1\" class=\"dataframe\">\n",
              "  <thead>\n",
              "    <tr style=\"text-align: right;\">\n",
              "      <th></th>\n",
              "      <th>00</th>\n",
              "      <th>0</th>\n",
              "      <th>1</th>\n",
              "      <th>2</th>\n",
              "      <th>3</th>\n",
              "      <th>4</th>\n",
              "      <th>5</th>\n",
              "      <th>6</th>\n",
              "      <th>7</th>\n",
              "      <th>8</th>\n",
              "    </tr>\n",
              "  </thead>\n",
              "  <tbody>\n",
              "    <tr>\n",
              "      <th>0</th>\n",
              "      <td>1</td>\n",
              "      <td>540.0</td>\n",
              "      <td>0.0</td>\n",
              "      <td>0.0</td>\n",
              "      <td>162.0</td>\n",
              "      <td>2.5</td>\n",
              "      <td>1040.0</td>\n",
              "      <td>676.0</td>\n",
              "      <td>28</td>\n",
              "      <td>79.986111</td>\n",
              "    </tr>\n",
              "    <tr>\n",
              "      <th>1</th>\n",
              "      <td>1</td>\n",
              "      <td>540.0</td>\n",
              "      <td>0.0</td>\n",
              "      <td>0.0</td>\n",
              "      <td>162.0</td>\n",
              "      <td>2.5</td>\n",
              "      <td>1055.0</td>\n",
              "      <td>676.0</td>\n",
              "      <td>28</td>\n",
              "      <td>61.887366</td>\n",
              "    </tr>\n",
              "    <tr>\n",
              "      <th>2</th>\n",
              "      <td>1</td>\n",
              "      <td>332.5</td>\n",
              "      <td>142.5</td>\n",
              "      <td>0.0</td>\n",
              "      <td>228.0</td>\n",
              "      <td>0.0</td>\n",
              "      <td>932.0</td>\n",
              "      <td>594.0</td>\n",
              "      <td>270</td>\n",
              "      <td>40.269535</td>\n",
              "    </tr>\n",
              "    <tr>\n",
              "      <th>3</th>\n",
              "      <td>1</td>\n",
              "      <td>332.5</td>\n",
              "      <td>142.5</td>\n",
              "      <td>0.0</td>\n",
              "      <td>228.0</td>\n",
              "      <td>0.0</td>\n",
              "      <td>932.0</td>\n",
              "      <td>594.0</td>\n",
              "      <td>365</td>\n",
              "      <td>41.052780</td>\n",
              "    </tr>\n",
              "    <tr>\n",
              "      <th>4</th>\n",
              "      <td>1</td>\n",
              "      <td>198.6</td>\n",
              "      <td>132.4</td>\n",
              "      <td>0.0</td>\n",
              "      <td>192.0</td>\n",
              "      <td>0.0</td>\n",
              "      <td>978.4</td>\n",
              "      <td>825.5</td>\n",
              "      <td>360</td>\n",
              "      <td>44.296075</td>\n",
              "    </tr>\n",
              "  </tbody>\n",
              "</table>\n",
              "</div>"
            ],
            "text/plain": [
              "   00      0      1    2      3    4       5      6    7          8\n",
              "0   1  540.0    0.0  0.0  162.0  2.5  1040.0  676.0   28  79.986111\n",
              "1   1  540.0    0.0  0.0  162.0  2.5  1055.0  676.0   28  61.887366\n",
              "2   1  332.5  142.5  0.0  228.0  0.0   932.0  594.0  270  40.269535\n",
              "3   1  332.5  142.5  0.0  228.0  0.0   932.0  594.0  365  41.052780\n",
              "4   1  198.6  132.4  0.0  192.0  0.0   978.4  825.5  360  44.296075"
            ]
          },
          "execution_count": 8,
          "metadata": {
            "tags": []
          },
          "output_type": "execute_result"
        }
      ],
      "source": [
        "df = pd.concat([pd.Series(1, index=df.index, name='00'), df], axis=1)\n",
        "df.head()"
      ]
    },
    {
      "cell_type": "markdown",
      "metadata": {
        "id": "5bTRvvx7t9lJ"
      },
      "source": [
        "## Arranging the input matrix X\n"
      ]
    },
    {
      "cell_type": "code",
      "execution_count": null,
      "metadata": {
        "colab": {
          "base_uri": "https://localhost:8080/"
        },
        "id": "ZQWyqkpbnWdC",
        "outputId": "da816842-8e46-4f64-84aa-7459ca639532"
      },
      "outputs": [
        {
          "name": "stdout",
          "output_type": "stream",
          "text": [
            "      00      0      1      2      3     4       5      6    7\n",
            "0      1  540.0    0.0    0.0  162.0   2.5  1040.0  676.0   28\n",
            "1      1  540.0    0.0    0.0  162.0   2.5  1055.0  676.0   28\n",
            "2      1  332.5  142.5    0.0  228.0   0.0   932.0  594.0  270\n",
            "3      1  332.5  142.5    0.0  228.0   0.0   932.0  594.0  365\n",
            "4      1  198.6  132.4    0.0  192.0   0.0   978.4  825.5  360\n",
            "...   ..    ...    ...    ...    ...   ...     ...    ...  ...\n",
            "1025   1  276.4  116.0   90.3  179.6   8.9   870.1  768.3   28\n",
            "1026   1  322.2    0.0  115.6  196.0  10.4   817.9  813.4   28\n",
            "1027   1  148.5  139.4  108.6  192.7   6.1   892.4  780.0   28\n",
            "1028   1  159.1  186.7    0.0  175.6  11.3   989.6  788.9   28\n",
            "1029   1  260.9  100.5   78.3  200.6   8.6   864.5  761.5   28\n",
            "\n",
            "[1030 rows x 9 columns]\n"
          ]
        }
      ],
      "source": [
        "#dropping the last column of dataset\n",
        "X = df.drop(columns=8)\n",
        "print(X)\n"
      ]
    },
    {
      "cell_type": "markdown",
      "metadata": {
        "id": "TeCc7Ar9vC0M"
      },
      "source": [
        "## Arranging the output vector Y"
      ]
    },
    {
      "cell_type": "code",
      "execution_count": null,
      "metadata": {
        "colab": {
          "base_uri": "https://localhost:8080/"
        },
        "id": "ovXKdSVone74",
        "outputId": "220617fc-14b9-449d-fd74-0f79b3c7729f"
      },
      "outputs": [
        {
          "name": "stdout",
          "output_type": "stream",
          "text": [
            "0       79.986111\n",
            "1       61.887366\n",
            "2       40.269535\n",
            "3       41.052780\n",
            "4       44.296075\n",
            "          ...    \n",
            "1025    44.284354\n",
            "1026    31.178794\n",
            "1027    23.696601\n",
            "1028    32.768036\n",
            "1029    32.401235\n",
            "Name: 8, Length: 1030, dtype: float64\n"
          ]
        }
      ],
      "source": [
        "#Selecting last column\n",
        "Y = df.iloc[:, 9]\n",
        "print(Y)\n"
      ]
    },
    {
      "cell_type": "markdown",
      "metadata": {
        "id": "_pPRWYJcv8V0"
      },
      "source": [
        "## Normalizing the data to optimize"
      ]
    },
    {
      "cell_type": "code",
      "execution_count": null,
      "metadata": {
        "colab": {
          "base_uri": "https://localhost:8080/",
          "height": 204
        },
        "id": "w1zagiVMwFLy",
        "outputId": "54e1c45b-e7f3-4d25-9459-0dfb78a558a6"
      },
      "outputs": [
        {
          "data": {
            "text/html": [
              "<div>\n",
              "<style scoped>\n",
              "    .dataframe tbody tr th:only-of-type {\n",
              "        vertical-align: middle;\n",
              "    }\n",
              "\n",
              "    .dataframe tbody tr th {\n",
              "        vertical-align: top;\n",
              "    }\n",
              "\n",
              "    .dataframe thead th {\n",
              "        text-align: right;\n",
              "    }\n",
              "</style>\n",
              "<table border=\"1\" class=\"dataframe\">\n",
              "  <thead>\n",
              "    <tr style=\"text-align: right;\">\n",
              "      <th></th>\n",
              "      <th>00</th>\n",
              "      <th>0</th>\n",
              "      <th>1</th>\n",
              "      <th>2</th>\n",
              "      <th>3</th>\n",
              "      <th>4</th>\n",
              "      <th>5</th>\n",
              "      <th>6</th>\n",
              "      <th>7</th>\n",
              "    </tr>\n",
              "  </thead>\n",
              "  <tbody>\n",
              "    <tr>\n",
              "      <th>0</th>\n",
              "      <td>1</td>\n",
              "      <td>1.000000</td>\n",
              "      <td>0.000000</td>\n",
              "      <td>0.0</td>\n",
              "      <td>0.655870</td>\n",
              "      <td>0.07764</td>\n",
              "      <td>0.908297</td>\n",
              "      <td>0.681040</td>\n",
              "      <td>0.076712</td>\n",
              "    </tr>\n",
              "    <tr>\n",
              "      <th>1</th>\n",
              "      <td>1</td>\n",
              "      <td>1.000000</td>\n",
              "      <td>0.000000</td>\n",
              "      <td>0.0</td>\n",
              "      <td>0.655870</td>\n",
              "      <td>0.07764</td>\n",
              "      <td>0.921397</td>\n",
              "      <td>0.681040</td>\n",
              "      <td>0.076712</td>\n",
              "    </tr>\n",
              "    <tr>\n",
              "      <th>2</th>\n",
              "      <td>1</td>\n",
              "      <td>0.615741</td>\n",
              "      <td>0.396494</td>\n",
              "      <td>0.0</td>\n",
              "      <td>0.923077</td>\n",
              "      <td>0.00000</td>\n",
              "      <td>0.813974</td>\n",
              "      <td>0.598428</td>\n",
              "      <td>0.739726</td>\n",
              "    </tr>\n",
              "    <tr>\n",
              "      <th>3</th>\n",
              "      <td>1</td>\n",
              "      <td>0.615741</td>\n",
              "      <td>0.396494</td>\n",
              "      <td>0.0</td>\n",
              "      <td>0.923077</td>\n",
              "      <td>0.00000</td>\n",
              "      <td>0.813974</td>\n",
              "      <td>0.598428</td>\n",
              "      <td>1.000000</td>\n",
              "    </tr>\n",
              "    <tr>\n",
              "      <th>4</th>\n",
              "      <td>1</td>\n",
              "      <td>0.367778</td>\n",
              "      <td>0.368392</td>\n",
              "      <td>0.0</td>\n",
              "      <td>0.777328</td>\n",
              "      <td>0.00000</td>\n",
              "      <td>0.854498</td>\n",
              "      <td>0.831654</td>\n",
              "      <td>0.986301</td>\n",
              "    </tr>\n",
              "  </tbody>\n",
              "</table>\n",
              "</div>"
            ],
            "text/plain": [
              "   00         0         1    2         3        4         5         6         7\n",
              "0   1  1.000000  0.000000  0.0  0.655870  0.07764  0.908297  0.681040  0.076712\n",
              "1   1  1.000000  0.000000  0.0  0.655870  0.07764  0.921397  0.681040  0.076712\n",
              "2   1  0.615741  0.396494  0.0  0.923077  0.00000  0.813974  0.598428  0.739726\n",
              "3   1  0.615741  0.396494  0.0  0.923077  0.00000  0.813974  0.598428  1.000000\n",
              "4   1  0.367778  0.368392  0.0  0.777328  0.00000  0.854498  0.831654  0.986301"
            ]
          },
          "execution_count": 11,
          "metadata": {
            "tags": []
          },
          "output_type": "execute_result"
        }
      ],
      "source": [
        "for i in range(1, len(X.columns)):\n",
        "    X[i-1] = X[i-1]/np.max(X[i-1])\n",
        "    \n",
        "X.head()"
      ]
    },
    {
      "cell_type": "markdown",
      "metadata": {
        "id": "PfXHo_cTxpl6"
      },
      "source": [
        "## Defining our Cost function"
      ]
    },
    {
      "cell_type": "code",
      "execution_count": null,
      "metadata": {
        "id": "39e9t2_dymVk"
      },
      "outputs": [],
      "source": [
        "def cost_function(X, y, theta):\n",
        "    m = y.size\n",
        "    error = np.dot(X, theta.T) - y\n",
        "    cost = 1/(2*m) * np.sum(np.square(error))\n",
        "    return cost, error"
      ]
    },
    {
      "cell_type": "markdown",
      "metadata": {
        "id": "1i9vK0K_yoDx"
      },
      "source": [
        "## Defining the Gradient Descent Algorithm"
      ]
    },
    {
      "cell_type": "code",
      "execution_count": null,
      "metadata": {
        "id": "I_cgW9UlyvCJ"
      },
      "outputs": [],
      "source": [
        "def gradient_descent(X, y, theta, alpha, iters):\n",
        "    cost_array = np.zeros(iters)\n",
        "    m = y.size\n",
        "    for i in range(iters):\n",
        "        cost, error = cost_function(X, y, theta)\n",
        "        theta = theta - (alpha * (1/m) * np.dot(X.T, error))\n",
        "        cost_array[i] = cost\n",
        "    return theta, cost_array"
      ]
    },
    {
      "cell_type": "markdown",
      "metadata": {
        "id": "2LhkPUWOyx0R"
      },
      "source": [
        "## Defining the Graph Plotting function"
      ]
    },
    {
      "cell_type": "code",
      "execution_count": null,
      "metadata": {
        "id": "hCmAxEHsjCad"
      },
      "outputs": [],
      "source": [
        "def plotChart(iterations, cost_num):\n",
        "    fig, ax = plt.subplots()\n",
        "    ax.plot(np.arange(iterations), cost_num, 'r')\n",
        "    ax.set_xlabel('Iterations')\n",
        "    ax.set_ylabel('Cost')\n",
        "    ax.set_title('Error vs Iterations')\n",
        "    plt.style.use('fivethirtyeight')\n",
        "    plt.show()"
      ]
    },
    {
      "cell_type": "markdown",
      "metadata": {
        "id": "Uf2piwS1y_Sq"
      },
      "source": [
        "## Initializing variables\n"
      ]
    },
    {
      "cell_type": "markdown",
      "metadata": {
        "id": "1mzZY48_zeFK"
      },
      "source": [
        "### Theta vector"
      ]
    },
    {
      "cell_type": "code",
      "execution_count": null,
      "metadata": {
        "id": "bWzuDtlLzGXr"
      },
      "outputs": [],
      "source": [
        "theta =np.zeros(X.shape[1])"
      ]
    },
    {
      "cell_type": "markdown",
      "metadata": {
        "id": "vS7UekDszWvj"
      },
      "source": [
        "### Learning rate and number of iterations"
      ]
    },
    {
      "cell_type": "code",
      "execution_count": null,
      "metadata": {
        "id": "7Kcn8tW-jGG7"
      },
      "outputs": [],
      "source": [
        "alpha = 0.01\n",
        "iterations = 1000\n"
      ]
    },
    {
      "cell_type": "markdown",
      "metadata": {
        "id": "refUp5Atz7wz"
      },
      "source": [
        "## Computation Begins"
      ]
    },
    {
      "cell_type": "markdown",
      "metadata": {
        "id": "jQxhqZrI0Exp"
      },
      "source": [
        "### Calculating the initial cost error"
      ]
    },
    {
      "cell_type": "code",
      "execution_count": null,
      "metadata": {
        "colab": {
          "base_uri": "https://localhost:8080/"
        },
        "id": "5d7cgjGp0Kfy",
        "outputId": "b708c29a-1761-41f3-ae35-9950b12d7e6f"
      },
      "outputs": [
        {
          "name": "stdout",
          "output_type": "stream",
          "text": [
            "With initialized theta vector of [0. 0. 0. 0. 0. 0. 0. 0. 0.], our cost error is 780.8630643893939\n"
          ]
        }
      ],
      "source": [
        "initial_cost, _ = cost_function(X, Y, theta)\n",
        "print('With initialized theta vector of {0}, our cost error is {1}'.format(theta, initial_cost))"
      ]
    },
    {
      "cell_type": "markdown",
      "metadata": {
        "id": "K5GFk50l0f38"
      },
      "source": [
        "### Running the Gradient Descent Algo"
      ]
    },
    {
      "cell_type": "code",
      "execution_count": null,
      "metadata": {
        "id": "bedUDj-z0n2Z"
      },
      "outputs": [],
      "source": [
        "theta, cost_num = gradient_descent(X, Y, theta, alpha, iterations)"
      ]
    },
    {
      "cell_type": "markdown",
      "metadata": {
        "id": "QuKNeqgq0sWp"
      },
      "source": [
        "### Plotting the cost error with number of iterations"
      ]
    },
    {
      "cell_type": "code",
      "execution_count": null,
      "metadata": {
        "colab": {
          "base_uri": "https://localhost:8080/",
          "height": 295
        },
        "id": "KNcezszTjIcj",
        "outputId": "fa1d137f-363a-40fe-bbee-3e57c0d160da"
      },
      "outputs": [
        {
          "data": {
            "image/png": "[encoded data removed]",
            "text/plain": [
              "<Figure size 432x288 with 1 Axes>"
            ]
          },
          "metadata": {
            "needs_background": "light",
            "tags": []
          },
          "output_type": "display_data"
        }
      ],
      "source": [
        "plotChart(iterations, cost_num)\n"
      ]
    },
    {
      "cell_type": "markdown",
      "metadata": {
        "id": "9O0-2CI70_G6"
      },
      "source": [
        "### Calculating the final cost error"
      ]
    },
    {
      "cell_type": "code",
      "execution_count": null,
      "metadata": {
        "colab": {
          "base_uri": "https://localhost:8080/"
        },
        "id": "0_n3er0l1EJK",
        "outputId": "391e7440-ed8e-4d5c-a5bc-f551c07eb738"
      },
      "outputs": [
        {
          "name": "stdout",
          "output_type": "stream",
          "text": [
            "With final theta vector of [ 9.6423745  17.4792662   6.93614143 -0.45384736  3.39579364 11.15333087\n",
            "  6.71409     5.61127318  9.24374212], our cost error is 98.22122751666909\n"
          ]
        }
      ],
      "source": [
        "final_cost, _ = cost_function(X, Y, theta)\n",
        "print('With final theta vector of {0}, our cost error is {1}'.format(theta, final_cost))"
      ]
    }
  ],
  "metadata": {
    "colab": {
      "name": "Assignment 1.ipynb",
      "provenance": []
    },
    "kernelspec": {
      "display_name": "Python 3",
      "name": "python3"
    },
    "language_info": {
      "name": "python"
    }
  },
  "nbformat": 4,
  "nbformat_minor": 0
}
