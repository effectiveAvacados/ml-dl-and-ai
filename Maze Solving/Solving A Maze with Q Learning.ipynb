{
  "nbformat": 4,
  "nbformat_minor": 0,
  "metadata": {
    "colab": {
      "name": "Solving A Maze with Q-Learning.ipynb",
      "provenance": []
    },
    "kernelspec": {
      "name": "python3",
      "display_name": "Python 3"
    },
    "language_info": {
      "name": "python"
    }
  },
  "cells": [
    {
      "cell_type": "markdown",
      "metadata": {
        "id": "UgGCDSIlS-rm"
      },
      "source": [
        "# Modified Q-Learning algorithm for maze solving \n",
        "\n",
        "## Problem   \n",
        "This code implements a maze solving robot who should be able to reach the end point when its placed at any starting point.\n",
        "The difference is this model is trained using already known paths.\n",
        "\n",
        "## Terms used\n",
        "\n",
        "The maze is given in terms of coordinates of the maze. The maze can traversed in 4 directions.\n",
        "\n",
        "UP - 0, DOWN - 1, LEFT - 2, RIGHT - 3\n",
        "\n",
        "Episodes: are the list of pairs made up of the starting point and the actions taken by the agent to reach the goal.\n",
        "\n",
        "Horizontal Path List: is a list of pairs that contains the longest horizontal paths in the maze.\n",
        "\n",
        "Vertical Path List: is a list of pairs that contains the longest vertical paths in the maze.\n",
        "\n",
        "\n",
        "NOTE: for the sake of simplifying the maze, (1, 1) is added to the coordinates of the maze. \n"
      ]
    },
    {
      "cell_type": "markdown",
      "metadata": {
        "id": "kYdtyrKkS9sa"
      },
      "source": [
        "## Importing the libraries\n"
      ]
    },
    {
      "cell_type": "code",
      "metadata": {
        "id": "jkNwWJQnTQJL"
      },
      "source": [
        "import numpy as np\n",
        "import pylab as plt\n",
        "import networkx as nx"
      ],
      "execution_count": null,
      "outputs": []
    },
    {
      "cell_type": "markdown",
      "metadata": {
        "id": "Iove-EdnTVat"
      },
      "source": [
        "## Declaring the variables"
      ]
    },
    {
      "cell_type": "markdown",
      "metadata": {
        "id": "SnJ450Rg5OHG"
      },
      "source": [
        ""
      ]
    },
    {
      "cell_type": "code",
      "metadata": {
        "id": "-rd4LkVQTYHR"
      },
      "source": [
        "MATRIX_SIZE = 9\n",
        "\n",
        "start = (2, 2)\n",
        "finish = (4, 8)\n",
        "\n",
        "episodes = [\n",
        "    [(2,2), [0, 3, 3, 3]],\n",
        "    [(6,2), [1,3,0,3,1,3]],\n",
        "    [(6,4), [1,3,3]]\n",
        "]\n",
        "\n",
        "horizontal_path_list = [\n",
        "    [(0,0),(0,6)],\n",
        "    [(6,0),(6,8)],\n",
        "    [(8,0),(8,2)], \n",
        "    [(4,2),(4,8)]\n",
        "]\n",
        "\n",
        "vertical_path_list = [\n",
        "    [(0,0),(8,0)],\n",
        "    [(2,2),(8,2)],\n",
        "    [(4,4),(6,4)],\n",
        "    [(0,6),(6,6)],\n",
        "    [(6,8),(8,8)]\n",
        "]\n"
      ],
      "execution_count": null,
      "outputs": []
    },
    {
      "cell_type": "markdown",
      "metadata": {
        "id": "HT25GWQITi_w"
      },
      "source": [
        "## Initializing the Maze\n"
      ]
    },
    {
      "cell_type": "code",
      "metadata": {
        "id": "slW4PlNGTk5E"
      },
      "source": [
        "maze = np.matrix(np.ones(shape = (MATRIX_SIZE, MATRIX_SIZE)))\n",
        "maze *= -1"
      ],
      "execution_count": null,
      "outputs": []
    },
    {
      "cell_type": "markdown",
      "metadata": {
        "id": "lnRc2JW7UEIt"
      },
      "source": [
        "## Updating viable paths"
      ]
    },
    {
      "cell_type": "code",
      "metadata": {
        "id": "XLSHCy63WFE_"
      },
      "source": [
        " #  Given Maze                     Flipped maze for programming ease(Target)    \n",
        "    # 0 1 2 3 4 5 6 7 8         #  0 1 2 3 4 5 6 7 8\n",
        "#   8 . . . * * * * * .         0  . . . . . . . * * \n",
        "#   7 . * . * * * * * .         1  . * * * * * . * * \n",
        "#   6 . . . . . . . . .         2  . * . * * * . * * \n",
        "#   5 . * . * . * . * *         3  . * . * * * . * * \n",
        "#   4 . * . . . . . . .         4  . * . . . . . . . \n",
        "#   3 . * . * * * . * *         5  . * . * . * . * * \n",
        "#   2 . * . * * * . * *         6  . . . . . . . . . \n",
        "#   1 . * * * * * . * *         7  . * . * * * * * . \n",
        "#   0 . . . . . . . * *         8  . . . * * * * * . "
      ],
      "execution_count": null,
      "outputs": []
    },
    {
      "cell_type": "code",
      "metadata": {
        "colab": {
          "base_uri": "https://localhost:8080/"
        },
        "id": "RaGQC9SZUGRl",
        "outputId": "f14d6fd6-d411-46a3-d469-9c2d34ec7439"
      },
      "source": [
        "print(\"Creating the maze...\")\n",
        "for path in horizontal_path_list:\n",
        "    for i in range(path[0][1], path[1][1]+1):\n",
        "        maze[path[0][0], i] = 0\n",
        "\n",
        "for path in vertical_path_list:\n",
        "    for i in range(path[0][0], path[1][0]+1):\n",
        "        maze[i, path[0][1]] = 0\n",
        "\n",
        "maze[finish[0], finish[1]] = 100\n",
        "print(\"\\nMaze: \\n{}\\n\".format(maze))"
      ],
      "execution_count": null,
      "outputs": [
        {
          "output_type": "stream",
          "text": [
            "Creating the maze...\n",
            "\n",
            "Maze: \n",
            "[[  0.   0.   0.   0.   0.   0.   0.  -1.  -1.]\n",
            " [  0.  -1.  -1.  -1.  -1.  -1.   0.  -1.  -1.]\n",
            " [  0.  -1.   0.  -1.  -1.  -1.   0.  -1.  -1.]\n",
            " [  0.  -1.   0.  -1.  -1.  -1.   0.  -1.  -1.]\n",
            " [  0.  -1.   0.   0.   0.   0.   0.   0. 100.]\n",
            " [  0.  -1.   0.  -1.   0.  -1.   0.  -1.  -1.]\n",
            " [  0.   0.   0.   0.   0.   0.   0.   0.   0.]\n",
            " [  0.  -1.   0.  -1.  -1.  -1.  -1.  -1.   0.]\n",
            " [  0.   0.   0.  -1.  -1.  -1.  -1.  -1.   0.]]\n",
            "\n"
          ],
          "name": "stdout"
        }
      ]
    },
    {
      "cell_type": "markdown",
      "metadata": {
        "id": "Bby2n21gUQ25"
      },
      "source": [
        "## Defining the functions"
      ]
    },
    {
      "cell_type": "markdown",
      "metadata": {
        "id": "Q7NTs4UPUT7Y"
      },
      "source": [
        "### get_max() for training the model"
      ]
    },
    {
      "cell_type": "code",
      "metadata": {
        "id": "xec5KaX3UaYw"
      },
      "source": [
        "def get_max(getFrom, x, y):\n",
        "    values = []\n",
        "  # 0: UP\n",
        "    if y == MATRIX_SIZE-1 or maze[x, y+1] == -1:\n",
        "        values.append(-1)\n",
        "    else:\n",
        "        values.append(getFrom[x, y+2])\n",
        "  # 1: DOWN\n",
        "    if y == 0 or maze[x, y-1] == -1:\n",
        "        values.append(-1)\n",
        "    else:\n",
        "        values.append(getFrom[x, y-2])\n",
        "  # 2: LEFT\n",
        "    if x == 0 or maze[x-1, y] == -1:\n",
        "        values.append(-1)\n",
        "    else:\n",
        "        values.append(getFrom[x-2, y])\n",
        "  # 3: RIGHT\n",
        "    if x == MATRIX_SIZE-1 or maze[x+1, y] == -1:\n",
        "        values.append(-1)\n",
        "    else:\n",
        "        values.append(getFrom[x+2, y])\n",
        "\n",
        "    values.append(getFrom[x, y])\n",
        "\n",
        "    return max(values)"
      ],
      "execution_count": null,
      "outputs": []
    },
    {
      "cell_type": "markdown",
      "metadata": {
        "id": "O1CQIyLiUgN7"
      },
      "source": [
        "### get_next() for getting the next best action when testing"
      ]
    },
    {
      "cell_type": "code",
      "metadata": {
        "id": "ff555VSTUoH7"
      },
      "source": [
        "def get_next(getFrom, x, y):\n",
        "    values = []\n",
        "    # 0: UP\n",
        "    if x == MATRIX_SIZE-1 or maze[x+1, y] == -1:\n",
        "        values.append(-1)\n",
        "    else:\n",
        "        values.append(getFrom[x+2, y])\n",
        "    # 1: DOWN\n",
        "    if x == 0  or maze[x-1, y] == -1:\n",
        "        values.append(-1)\n",
        "    else:\n",
        "        values.append(getFrom[x-2, y])\n",
        "    # 2: LEFT\n",
        "    if y == 0 or maze[x, y-1] == -1:\n",
        "        values.append(-1)\n",
        "    else:\n",
        "        values.append(getFrom[x, y-2])\n",
        "    # 3: RIGHT\n",
        "    if y == MATRIX_SIZE-1 or maze[x, y+1] == -1:\n",
        "        values.append(-1)\n",
        "    else:\n",
        "        values.append(getFrom[x, y+2])    \n",
        "    print(\"\\tNeighbours of {}, {}: {}\".format(x, y, values))\n",
        "    \n",
        "    return values.index(max(values))"
      ],
      "execution_count": null,
      "outputs": []
    },
    {
      "cell_type": "markdown",
      "metadata": {
        "id": "6o_41OMWUzMj"
      },
      "source": [
        "### find_path() to solve the maze "
      ]
    },
    {
      "cell_type": "code",
      "metadata": {
        "id": "xqbVyAqiU3aS"
      },
      "source": [
        "def find_path(start, finish, Q):\n",
        "    x, y = start\n",
        "    steps = []\n",
        "    \n",
        "    while (x,y) != finish:\n",
        "        action = get_next(Q, x, y)\n",
        "        if action == 0:\n",
        "            print(\"MOVE UP\", end=\"\\t\\t\")\n",
        "            steps.append(\"UP\")\n",
        "            x += 2\n",
        "        elif action == 1:\n",
        "            print(\"MOVE DOWN\", end=\"\\t\")\n",
        "            steps.append(\"DOWN\")\n",
        "            x -= 2\n",
        "        elif action == 2:\n",
        "            print(\"MOVE LEFT\", end=\"\\t\")\n",
        "            steps.append(\"LEFT\")\n",
        "            y -= 2\n",
        "        elif action == 3:\n",
        "            print(\"MOVE RIGHT\", end=\"\\t\")\n",
        "            steps.append(\"RIGHT\")\n",
        "            y += 2\n",
        "        print(\" -> ({}, {})\".format(int(y/2-1), int(x/2-1)), end = \" \")\n",
        "    print(\"\\tDestination reached!\\n\")\n",
        "    return steps"
      ],
      "execution_count": null,
      "outputs": []
    },
    {
      "cell_type": "markdown",
      "metadata": {
        "id": "naDB5Mv2U-hI"
      },
      "source": [
        "## Initializing the Q-table"
      ]
    },
    {
      "cell_type": "code",
      "metadata": {
        "id": "55gHPhagVA5C"
      },
      "source": [
        "Q = np.matrix(np.zeros([MATRIX_SIZE, MATRIX_SIZE]))\n",
        "gamma = 0.8"
      ],
      "execution_count": null,
      "outputs": []
    },
    {
      "cell_type": "markdown",
      "metadata": {
        "id": "haR-SZ3hVE0g"
      },
      "source": [
        "## Training the model"
      ]
    },
    {
      "cell_type": "code",
      "metadata": {
        "colab": {
          "base_uri": "https://localhost:8080/"
        },
        "id": "Gwah6DuqVHQR",
        "outputId": "00ee2fc0-2b0c-47c5-c95c-b0114a49a285"
      },
      "source": [
        "# Updating the q-table \n",
        "print(\"\\nUpdating the q-table...\")\n",
        "\n",
        "for p in range(3):\n",
        "    for start, action_list in episodes:\n",
        "        x, y = start\n",
        "        \n",
        "        for action in action_list:\n",
        "            if action == 0:     # 0: UP\n",
        "                Q[x, y] = maze[x, y] + gamma * get_max(Q, x+2, y)\n",
        "                Q[x+1, y] = Q[x, y]\n",
        "                if (x, y) != finish:\n",
        "                    x, y = x+2, y\n",
        "            elif action == 1:   # 1: DOWN\n",
        "                Q[x, y] = maze[x, y] + gamma * get_max(Q, x-2, y)\n",
        "                Q[x-1, y] = Q[x, y]\n",
        "                if (x, y) != finish:\n",
        "                    x, y = x-2, y\n",
        "            elif action == 2:   # 2: LEFT\n",
        "                Q[x, y] = maze[x, y] + gamma * get_max(Q, x, y-2)\n",
        "                Q[x, y-1] = Q[x, y]\n",
        "                if (x, y) != finish:\n",
        "                    x, y = x, y-2\n",
        "            elif action == 3:   # 3: RIGHT\n",
        "                Q[x, y] = maze[x, y] + gamma * get_max(Q, x, y+2)\n",
        "                Q[x, y+1] = Q[x, y]\n",
        "                if (x, y) != finish:\n",
        "                    x, y = x, y+2\n",
        "            if(x,y) == finish:  # If the agent reaches the finish state\n",
        "                Q[x,y] += maze[x,y]\n",
        "\n",
        "            # print(\"Start: {} \\nQ-table: \\n{} \\n\".format(start, Q))\n",
        "            \n",
        "    Q = Q/np.max(Q)*100  \n",
        "\n",
        "print(\"\\nQ-table: \\n{} \\n\".format(Q))"
      ],
      "execution_count": null,
      "outputs": [
        {
          "output_type": "stream",
          "text": [
            "\n",
            "Updating the q-table...\n",
            "\n",
            "Q-table: \n",
            "[[  0.   0.   0.   0.   0.   0.   0.   0.   0.]\n",
            " [  0.   0.   0.   0.   0.   0.   0.   0.   0.]\n",
            " [  0.   0.  12.   0.   0.   0.   0.   0.   0.]\n",
            " [  0.   0.  12.   0.   0.   0.   0.   0.   0.]\n",
            " [  0.   0.  16.  16.  60.  60.  60.  60. 100.]\n",
            " [  0.   0.  16.   0.  32.   0.  40.   0.   0.]\n",
            " [  0.   0.  16.   0.  32.  16.  40.   0.   0.]\n",
            " [  0.   0.   0.   0.   0.   0.   0.   0.   0.]\n",
            " [  0.   0.   0.   0.   0.   0.   0.   0.   0.]] \n",
            "\n"
          ],
          "name": "stdout"
        }
      ]
    },
    {
      "cell_type": "markdown",
      "metadata": {
        "id": "s1sosEQ_VNoV"
      },
      "source": [
        "## Testing the model"
      ]
    },
    {
      "cell_type": "code",
      "metadata": {
        "colab": {
          "base_uri": "https://localhost:8080/"
        },
        "id": "IaPbkFtGVPrf",
        "outputId": "5b04a2df-467a-48eb-ea78-76c4b98af743"
      },
      "source": [
        "print(\"\\nFinding the path...\")\n",
        "start = (2,2)\n",
        "print(\"Start: ({}, {})\".format(start[1]//2-1, start[0]//2-1))\n",
        "print(\"Finish: ({}, {})\\n\".format(finish[1]//2-1, finish[0]//2-1))\n",
        "\n",
        "\n",
        "print(\"({},{})\".format(start[1]//2-1, start[0]//2-1), end=\" \")\n",
        "print(find_path(start, finish, Q))"
      ],
      "execution_count": null,
      "outputs": [
        {
          "output_type": "stream",
          "text": [
            "\n",
            "Finding the path...\n",
            "Start: (0, 0)\n",
            "Finish: (3, 1)\n",
            "\n",
            "(0,0) \tNeighbours of 2, 2: [16.0, -1, -1, -1]\n",
            "MOVE UP\t\t -> (0, 1) \tNeighbours of 4, 2: [16.0, 12.0, -1, 60.0]\n",
            "MOVE RIGHT\t -> (1, 1) \tNeighbours of 4, 4: [32.0, -1, 16.0, 60.0]\n",
            "MOVE RIGHT\t -> (2, 1) \tNeighbours of 4, 6: [40.0, 0.0, 60.0, 100.0]\n",
            "MOVE RIGHT\t -> (3, 1) \tDestination reached!\n",
            "\n",
            "['UP', 'RIGHT', 'RIGHT', 'RIGHT']\n"
          ],
          "name": "stdout"
        }
      ]
    },
    {
      "cell_type": "markdown",
      "metadata": {
        "id": "HjDFsl7VUQxY"
      },
      "source": [
        ""
      ]
    }
  ]
}